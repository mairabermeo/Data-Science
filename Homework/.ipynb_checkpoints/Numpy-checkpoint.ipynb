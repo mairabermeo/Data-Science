{
 "cells": [
  {
   "cell_type": "markdown",
   "id": "1fbc721f-172c-4ddd-87c2-703ff36aa937",
   "metadata": {},
   "source": [
    "Problem 1:\n",
    "\n",
    "Write a Python/NumPy code block that finds the distinct/unique common items between these two\n",
    "arrays:\n",
    "a = np.array([1, 2, 3, 2, 3, 4, 3, 4, 5, 6])\n",
    "b = np.array([7, 2, 10, 2, 7, 4, 9, 4, 9, 8])\n",
    "Your output should contain only the distinct overlapping values. For example, if a 2 is found in both array a and array b,\n",
    "your output should contain only one 2 even if array a contains more than one 2 within it."
   ]
  },
  {
   "cell_type": "code",
   "execution_count": null,
   "id": "997b2077-53ec-45ed-b42d-4ee93cf1a97d",
   "metadata": {},
   "outputs": [],
   "source": []
  },
  {
   "cell_type": "markdown",
   "id": "d02cb3af-2268-42db-8ec5-07b7a7b204af",
   "metadata": {},
   "source": [
    "Problem 2:\n",
    "\n",
    "Create the following 5x3 array using knowledge you have of Python’s / NumPy’s sequencing functionality\n",
    "so that you do not need to explicitly key in every integer value.\n",
    "1   6    11\n",
    "2   7    12\n",
    "3   8    13\n",
    "4   9    14\n",
    "5   10  15"
   ]
  },
  {
   "cell_type": "code",
   "execution_count": null,
   "id": "ecd8eebb-6f9f-4377-99df-de7ba4f5b553",
   "metadata": {},
   "outputs": [],
   "source": []
  },
  {
   "cell_type": "markdown",
   "id": "fc44d8fd-402f-48c6-9405-be0301cc5627",
   "metadata": {},
   "source": [
    "Problem 3:\n",
    "\n",
    "The process of transforming a multidimensional array into a unidimensional array is referred to as “flattening”. Transform the 5x3 array shown above in Problem 2 into a unidimensional array such that the sequence of values contained within the array is as follows: 1, 2, 3, 4, 5, 6, 7, 8, 9, 10, 11, 12, 13, 14, 15"
   ]
  },
  {
   "cell_type": "code",
   "execution_count": null,
   "id": "f573c52a-a574-44e5-a577-fc6cbd678ae5",
   "metadata": {},
   "outputs": [],
   "source": []
  },
  {
   "cell_type": "markdown",
   "id": "991b8b98-3d5c-4057-898e-3a65c7f51ec6",
   "metadata": {},
   "source": [
    "Problem 4:\n",
    "\n",
    "Transform the 2-D array shown in Problem 2 into a 3 dimensional array such that the first column becomes the first dimension of the 3-D array, the second column becomes the second dimension of the 3-D array, and the third column becomes the third dimension of the 3-D array."
   ]
  },
  {
   "cell_type": "code",
   "execution_count": null,
   "id": "26bdf526-388f-4795-aafe-ba60bab08882",
   "metadata": {},
   "outputs": [],
   "source": []
  },
  {
   "cell_type": "markdown",
   "id": "f88f62d0-c382-4bdb-9dee-052709b4a5f5",
   "metadata": {},
   "source": [
    "Problem 5:\n",
    "\n",
    "Transform the 3-D array you created in Problem 4 back to the 2-dimensional format shown in Problem 2."
   ]
  },
  {
   "cell_type": "code",
   "execution_count": null,
   "id": "cfbb25dc-7c9b-4d98-9613-307411716334",
   "metadata": {},
   "outputs": [],
   "source": []
  },
  {
   "cell_type": "markdown",
   "id": "1db4dbca-414d-427b-bd05-c3fd46559b49",
   "metadata": {},
   "source": [
    "Problem 6:\n",
    "\n",
    "You are given the following two arrays:\n",
    "a = np.array([12, 5, 7, 15, 3, 1, 8])\n",
    "b = np.array([14, 6, 3, 11, 19, 12, 5])\n",
    "Write a Python/Numpy code block that removes from array a any items that are also present in array b."
   ]
  },
  {
   "cell_type": "code",
   "execution_count": null,
   "id": "42bff496-9fd1-4f63-b690-b9c137b88a0f",
   "metadata": {},
   "outputs": [],
   "source": []
  },
  {
   "cell_type": "markdown",
   "id": "8927c589-7cdf-4427-91e8-fc80f5d1e41a",
   "metadata": {},
   "source": [
    "Problem 7:\n",
    "\n",
    "Answer the following questions about the accompanying data file.\n",
    "\n",
    "What is the maximum yearly NYC consumption of water in millions of gallons per day?\n",
    "How many calendar years are represented within this data set? NumPy's shape command is one way to find\n",
    "out.\n",
    "What is the mean and the standard deviation of the per capita daily water consumption?\n",
    "What is the increase or decrease in population from year to year? Use NumPy's `diff` function to create an array\n",
    "of differences and save that to a variable called \"pop_diff\", then print that variable to the screen."
   ]
  }
 ],
 "metadata": {
  "kernelspec": {
   "display_name": "Python [conda env:base] *",
   "language": "python",
   "name": "conda-base-py"
  },
  "language_info": {
   "codemirror_mode": {
    "name": "ipython",
    "version": 3
   },
   "file_extension": ".py",
   "mimetype": "text/x-python",
   "name": "python",
   "nbconvert_exporter": "python",
   "pygments_lexer": "ipython3",
   "version": "3.12.7"
  }
 },
 "nbformat": 4,
 "nbformat_minor": 5
}
