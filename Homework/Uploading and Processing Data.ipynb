{
 "cells": [
  {
   "cell_type": "markdown",
   "id": "d209b8b1-efa9-46da-8a87-d15f0839068e",
   "metadata": {},
   "source": [
    "# HW 3\n",
    "\n",
    "> Name: Maira Bermeo  \n",
    "> EMPL ID: 24175075"
   ]
  },
  {
   "cell_type": "markdown",
   "id": "66bd2fd6-bd2e-4906-9436-db71751272f3",
   "metadata": {},
   "source": [
    "For the first eight questions, use cars-sample35.txt. The seven distinct values represent attributes of a single type of automobile. Specifically we have the following:\n",
    "- Price\n",
    "- Maintenance cost\n",
    "- Number of doors\n",
    "- Number of passengers\n",
    "- Luggage capacity\n",
    "- Safety rating\n",
    "- Classification of vehicle"
   ]
  },
  {
   "cell_type": "markdown",
   "id": "334175ee-db97-4c1c-b0d2-dacedb9dd63b",
   "metadata": {},
   "source": [
    "#### Question 1\n",
    "Upload the data to github. Upload the data to python using Pandas and give it headers."
   ]
  },
  {
   "cell_type": "code",
   "execution_count": 17,
   "id": "09b9eb70-7731-480f-aa1a-9dc207121d14",
   "metadata": {},
   "outputs": [
    {
     "name": "stdout",
     "output_type": "stream",
     "text": [
      "   Price Maintenance cost Number of doors Number of passengers  \\\n",
      "0   high             high               2                    4   \n",
      "1   high             high               4                 more   \n",
      "2   high             high               4                 more   \n",
      "3   high              low               2                 more   \n",
      "4  vhigh              low               3                    2   \n",
      "\n",
      "  Luggage capacity Safety rating Classification of vehicle  \n",
      "0              med           low                     unacc  \n",
      "1            small          high                       acc  \n",
      "2              big           low                     unacc  \n",
      "3              big          high                       acc  \n",
      "4              med           med                     unacc  \n"
     ]
    }
   ],
   "source": [
    "import pandas as pd\n",
    "\n",
    "column_names = [\n",
    "    \"Price\", \n",
    "    \"Maintenance cost\", \n",
    "    \"Number of doors\", \n",
    "    \"Number of passengers\", \n",
    "    \"Luggage capacity\", \n",
    "    \"Safety rating\", \n",
    "    \"Classification of vehicle\"\n",
    "]\n",
    "filename = 'https://raw.githubusercontent.com/mairabermeo/Uploading-and-Processing-Data/main/cars-sample35.txt'\n",
    "df = pd.read_csv(filename, header=None, names=column_names)\n",
    "\n",
    "print(df.head())\n"
   ]
  },
  {
   "cell_type": "code",
   "execution_count": 19,
   "id": "a1169b92-d95d-45f2-8df7-81343ecf8629",
   "metadata": {},
   "outputs": [
    {
     "name": "stdout",
     "output_type": "stream",
     "text": [
      "Index(['Price', 'Maintenance cost', 'Number of doors', 'Number of passengers',\n",
      "       'Luggage capacity', 'Safety rating', 'Classification of vehicle'],\n",
      "      dtype='object')\n"
     ]
    }
   ],
   "source": [
    "print(df.columns)\n"
   ]
  },
  {
   "cell_type": "markdown",
   "id": "7e32829d-bad3-4fbc-a7db-e1394627e231",
   "metadata": {},
   "source": [
    "#### Question 2  \n",
    "Extract these seven attributes from each line of the file and create seven distinct Python list objects comprised solely of the values you extracted for a given attribute. In other words, you should have lists of prices, maintenance costs, number of doors, etc."
   ]
  },
  {
   "cell_type": "code",
   "execution_count": 22,
   "id": "b340df3a-848d-4ca7-b90f-d966e937f36f",
   "metadata": {
    "scrolled": true
   },
   "outputs": [
    {
     "name": "stdout",
     "output_type": "stream",
     "text": [
      "['high', 'high', 'high', 'high', 'vhigh', 'low', 'med', 'low', 'vhigh', 'vhigh', 'low', 'vhigh', 'high', 'low', 'high', 'vhigh', 'med', 'high', 'low', 'low', 'med', 'low', 'vhigh', 'med', 'low', 'vhigh', 'med', 'high', 'low', 'med', 'high', 'high', 'low', 'vhigh', 'high']\n",
      "\n",
      "['high', 'high', 'high', 'low', 'low', 'high', 'med', 'low', 'low', 'high', 'low', 'low', 'low', 'vhigh', 'low', 'high', 'med', 'low', 'low', 'low', 'high', 'low', 'high', 'vhigh', 'vhigh', 'low', 'vhigh', 'high', 'high', 'high', 'low', 'vhigh', 'low', 'vhigh', 'low']\n",
      "\n",
      "['2', '4', '4', '2', '3', '2', '4', '3', '2', '4', '2', '4', '2', '3', '5more', '2', '2', '5more', '3', '2', '4', '2', '5more', '2', '4', '3', '3', '3', '5more', '5more', '3', '5more', '5more', '4', '3']\n",
      "\n",
      "['4', 'more', 'more', 'more', '2', '2', 'more', '2', '2', '4', '2', 'more', '4', 'more', '2', 'more', '2', '4', 'more', '2', '2', '2', '4', '2', '4', 'more', '4', '4', '2', '2', '4', '4', '2', '2', '2']\n",
      "\n",
      "['med', 'small', 'big', 'big', 'med', 'small', 'med', 'big', 'small', 'med', 'med', 'small', 'big', 'big', 'big', 'med', 'small', 'med', 'med', 'big', 'big', 'small', 'med', 'big', 'big', 'big', 'small', 'med', 'big', 'med', 'med', 'med', 'med', 'big', 'big']\n",
      "\n",
      "['low', 'high', 'low', 'high', 'med', 'low', 'high', 'med', 'low', 'low', 'med', 'high', 'med', 'low', 'med', 'high', 'low', 'high', 'high', 'med', 'high', 'high', 'med', 'low', 'low', 'low', 'low', 'med', 'low', 'med', 'high', 'med', 'low', 'high', 'high']\n",
      "\n",
      "['unacc', 'acc', 'unacc', 'acc', 'unacc', 'unacc', 'vgood', 'unacc', 'unacc', 'unacc', 'unacc', 'acc', 'acc', 'unacc', 'unacc', 'unacc', 'unacc', 'acc', 'vgood', 'unacc', 'unacc', 'unacc', 'unacc', 'unacc', 'unacc', 'unacc', 'unacc', 'unacc', 'unacc', 'unacc', 'acc', 'unacc', 'unacc', 'unacc', 'unacc']\n"
     ]
    }
   ],
   "source": [
    "price_list = df[\"Price\"].tolist()\n",
    "maintenance_list = df[\"Maintenance cost\"].tolist()\n",
    "doors_list = df[\"Number of doors\"].tolist()\n",
    "passengers_list = df[\"Number of passengers\"].tolist()\n",
    "luggage_list = df[\"Luggage capacity\"].tolist()\n",
    "safety_list = df[\"Safety rating\"].tolist()\n",
    "class_list = df[\"Classification of vehicle\"].tolist()\n",
    "\n",
    "print(price_list)\n",
    "print()\n",
    "print(maintenance_list)\n",
    "print()\n",
    "print(doors_list)\n",
    "print()\n",
    "print(passengers_list)\n",
    "print()\n",
    "print(luggage_list)\n",
    "print()\n",
    "print(safety_list)\n",
    "print()\n",
    "print(class_list)"
   ]
  },
  {
   "cell_type": "markdown",
   "id": "fce943fa-216c-4dab-89ed-8d2769f6e641",
   "metadata": {},
   "source": [
    "#### Question 3  \n",
    "Find the list index values of each automobile having a “price” rating of \"med\". Create a new list object with your result. HINT: you can accomplish this task by searching the list of price values you created earlier. Be sure to print your results."
   ]
  },
  {
   "cell_type": "code",
   "execution_count": 27,
   "id": "19762e0e-0f5a-44ef-bec6-7a2b57f7c3d7",
   "metadata": {},
   "outputs": [
    {
     "name": "stdout",
     "output_type": "stream",
     "text": [
      "Indices of each automobile having a 'price' rating of 'med': [6, 16, 20, 23, 26, 29]\n"
     ]
    }
   ],
   "source": [
    "i = 0\n",
    "med_price = []\n",
    "while i < len(price_list):\n",
    "    if price_list[i] == 'med':\n",
    "        med_price.append(i)\n",
    "    i += 1\n",
    "\n",
    "print(\"Indices of each automobile having a 'price' rating of 'med': \"+ str(med_price))"
   ]
  },
  {
   "cell_type": "markdown",
   "id": "e26b1fbf-b075-4b57-bbf6-1c36a41bc7f7",
   "metadata": {},
   "source": [
    "#### Question 4  \n",
    "Find the \"number of passengers\" value for each auto having a \"price\" value of \"med\". Create a new list to store your findings and be sure to print your results."
   ]
  },
  {
   "cell_type": "code",
   "execution_count": 11,
   "id": "04a1d0f8-168c-44bd-8457-b97bb012a07b",
   "metadata": {},
   "outputs": [
    {
     "name": "stdout",
     "output_type": "stream",
     "text": [
      "Number of passengers where value for each auto having a 'price' value of 'med': ['more', '2', '2', '2', '4', '2']\n"
     ]
    }
   ],
   "source": [
    "med_price_passengers = []\n",
    "for i in med_price:\n",
    "    med_price_passengers.append(passengers_list[i])\n",
    "print(\"Number of passengers where value for each auto having a 'price' value of 'med': \"+ str(med_price_passengers))"
   ]
  },
  {
   "cell_type": "markdown",
   "id": "84beabe1-1715-4712-b24f-2d6423bbc15d",
   "metadata": {},
   "source": [
    "#### Question 5  \n",
    "Find the index value for each automobile having a “price” value of \"high\" and a “maintenance” value that is not \"low\". Create a new list to store your findings and be sure to print your results."
   ]
  },
  {
   "cell_type": "code",
   "execution_count": 13,
   "id": "fe04462d-10fa-4468-95e4-c9763d10753b",
   "metadata": {},
   "outputs": [
    {
     "name": "stdout",
     "output_type": "stream",
     "text": [
      "Indices with each automobile having a 'price' value of 'high' and a 'maintenance' value that is not 'low': [0, 1, 2, 27, 31]\n"
     ]
    }
   ],
   "source": [
    "Hprice_Nlow_Nmaint = []\n",
    "for i in range(len(price_list)):\n",
    "    if price_list[i] == 'high' and maintenance_list[i] != 'low':\n",
    "        Hprice_Nlow_Nmaint.append(i)\n",
    "print(\"Indices with each automobile having a 'price' value of 'high' and a 'maintenance' value that is not 'low': \"+ str(Hprice_Nlow_Nmaint))"
   ]
  },
  {
   "cell_type": "markdown",
   "id": "0a84cd9a-f4bf-4155-b49a-593a9bbbb580",
   "metadata": {},
   "source": [
    "#### Question 6  \n",
    "Find the list index values of each automobile having a price rating of \"med using a list comprehension instead of a basic for or while loop. The list comprehension should create a new list containing your result. Be sure to print your results to the screen."
   ]
  },
  {
   "cell_type": "code",
   "execution_count": 15,
   "id": "7be79392-40f9-4e43-aa93-cb0f92618a9a",
   "metadata": {},
   "outputs": [
    {
     "name": "stdout",
     "output_type": "stream",
     "text": [
      "List index values of each automobile having a price rating of 'med': [6, 16, 20, 23, 26, 29]\n"
     ]
    }
   ],
   "source": [
    "Mprice_indices_lc = [i for i, price in enumerate(price_list) if price == 'med']\n",
    "print(\"List index values of each automobile having a price rating of 'med': \"+ str(Mprice_indices_lc))"
   ]
  },
  {
   "cell_type": "markdown",
   "id": "6a9510a2-385e-4cd5-8c7c-6c007a26df8b",
   "metadata": {},
   "source": [
    "#### Question 7  \n",
    "Find the \"number of passengers\" value for each auto having a \"price\" value of \"med\" using a list comprehension instead of a basic for or while loop. The list comprehension should create a new list containing your findings. Be sure to print your results to the screen."
   ]
  },
  {
   "cell_type": "code",
   "execution_count": 17,
   "id": "d90cf6d4-3b86-40b3-8114-d94324d96ed1",
   "metadata": {},
   "outputs": [
    {
     "name": "stdout",
     "output_type": "stream",
     "text": [
      "'Number of passengers' value for each auto having a 'price' value of'med':['more', '2', '2', '2', '4', '2']\n"
     ]
    }
   ],
   "source": [
    "Mprice_passengers = [passengers_list[i] for i in range(len(price_list)) if price_list[i] == 'med']\n",
    "print(\"'Number of passengers' value for each auto having a 'price' value of'med':\"+ str(Mprice_passengers))"
   ]
  },
  {
   "cell_type": "markdown",
   "id": "e4e282e1-7e83-4fc0-ab8d-46c248f9c50b",
   "metadata": {},
   "source": [
    "#### Question 8  \n",
    "Find the index value for each automobile having a price value of \"high\" and a maintenance value that is not \"low\" using a list comprehension. The list comprehension should create a new list containing your findings. Be sure to print your results to the screen."
   ]
  },
  {
   "cell_type": "code",
   "execution_count": 19,
   "id": "9cde5957-7adb-49d8-af83-3d0a2785f69c",
   "metadata": {},
   "outputs": [
    {
     "name": "stdout",
     "output_type": "stream",
     "text": [
      "Index value for each automobile having a price value of 'high' and a maintenance value that is not 'low': [0, 1, 2, 27, 31]\n"
     ]
    }
   ],
   "source": [
    "Hprice_NLmaint_indices = [i for i in range(len(price_list)) if price_list[i] == 'high' and maintenance_list[i] != 'low']\n",
    "print(\"Index value for each automobile having a price value of 'high' and a maintenance value that is not 'low': \" + str(Hprice_NLmaint_indices))"
   ]
  },
  {
   "cell_type": "markdown",
   "id": "4d8ce8c0-51ba-4710-bc97-c2f301af1309",
   "metadata": {},
   "source": [
    "#### Question 9\n",
    "Nested List Comprehension (no file needed):  \n",
    "\n",
    "Consider the following list of lists: nlist = [ [1, 2, 3], [‘A’, ‘B’, ‘C’], [4, 5], [‘D’, ‘E’] ]. Extract each individual element of the component lists contained within nlist and add them to a new list.  Do NOT use a nested for loop, use a list comprehension."
   ]
  },
  {
   "cell_type": "code",
   "execution_count": 21,
   "id": "440963a6-c041-4ba7-86e9-59ace74b8edb",
   "metadata": {},
   "outputs": [
    {
     "name": "stdout",
     "output_type": "stream",
     "text": [
      "[1, 2, 3, 'A', 'B', 'C', 4, 5, 'D', 'E']\n"
     ]
    }
   ],
   "source": [
    "nlist = [[1, 2, 3], ['A', 'B', 'C'], [4, 5], ['D', 'E']]\n",
    "\n",
    "flattened = [item for sublist in nlist for item in sublist]\n",
    "\n",
    "print(flattened)"
   ]
  }
 ],
 "metadata": {
  "kernelspec": {
   "display_name": "Python [conda env:base] *",
   "language": "python",
   "name": "conda-base-py"
  },
  "language_info": {
   "codemirror_mode": {
    "name": "ipython",
    "version": 3
   },
   "file_extension": ".py",
   "mimetype": "text/x-python",
   "name": "python",
   "nbconvert_exporter": "python",
   "pygments_lexer": "ipython3",
   "version": "3.12.7"
  }
 },
 "nbformat": 4,
 "nbformat_minor": 5
}
