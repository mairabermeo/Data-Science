{
 "cells": [
  {
   "cell_type": "markdown",
   "id": "833e9bdb-f1fc-478a-bbb2-c665c5c4edb8",
   "metadata": {},
   "source": [
    "# HW 1\n",
    "\n",
    "> Name: Maira Bermeo  \n",
    "> EMPL ID: 24175075\n",
    "\n",
    "## Instructions \n",
    "(Part 1)  \n",
    "For the first 5 problems use the following data \n",
    "\"555-1239Dr. Bernard Lander(636) 555-0113Hollingdorp, Donnatella555-6542Fitzgerald, F. Sco\\tt555 8904Rev. Martin Luther King636-555-3226Snodgrass, Theodore5553642Carlamina Scarfoni\"\n",
    "\n",
    "* Extract the numbers\n",
    "* Extract the names\n",
    "* Rearrange the vector so that all elements conform to the standard “firstname lastname”, preserving any titles (e.g., “Rev.”, “Dr.”, etc) or middle/second names.\n",
    "* Construct a logical vector indicating whether a character has a title (i.e., Rev. and Dr.)\n",
    "* Construct a logical vector indicating whether a character has a middle/second name."
   ]
  },
  {
   "cell_type": "code",
   "execution_count": 2,
   "id": "178210a3-38ee-4f3b-b012-b9f4a06e128d",
   "metadata": {},
   "outputs": [],
   "source": [
    "data = \"555-1239Dr. Bernard Lander(636) 555-0113Hollingdorp, Donnatella555-6542Fitzgerald, F. Sco\\tt555 8904Rev. Martin Luther King636-555-3226Snodgrass, Theodore5553642Carlamina Scarfoni\""
   ]
  },
  {
   "cell_type": "markdown",
   "id": "2439b659-ff7a-4fb7-9947-9439af94a75a",
   "metadata": {},
   "source": [
    "##### **Extract the numbers**"
   ]
  },
  {
   "cell_type": "code",
   "execution_count": 4,
   "id": "c4572540-8de4-4892-af61-46bd95a03ab9",
   "metadata": {},
   "outputs": [
    {
     "name": "stdout",
     "output_type": "stream",
     "text": [
      "['555-1239', '(636) 555-0113', '555-6542', '555 8904', '636-555-3226', '5553642']\n",
      "\n",
      "['5551239', '6365550113', '5556542', '5558904', '6365553226', '5553642']\n"
     ]
    }
   ],
   "source": [
    "import re\n",
    "\n",
    "raw_numbers = re.findall('[0-9\\\\-\\\\s()]{7,}', data)\n",
    "print(raw_numbers)\n",
    "\n",
    "print()\n",
    "\n",
    "numbers = [re.sub('[^0-9]', '', n) for n in raw_numbers]\n",
    "print(numbers)"
   ]
  },
  {
   "cell_type": "markdown",
   "id": "669ad74c-4dd0-4bf4-8487-7b78f0512559",
   "metadata": {},
   "source": [
    "##### **Extract the names**"
   ]
  },
  {
   "cell_type": "code",
   "execution_count": 6,
   "id": "095e5595-3312-430b-a34d-36b84b38e4c3",
   "metadata": {},
   "outputs": [
    {
     "name": "stdout",
     "output_type": "stream",
     "text": [
      "['Dr. Bernard Lander', 'Hollingdorp, Donnatella', 'Fitzgerald, F. Scott', 'Rev. Martin Luther King', 'Snodgrass, Theodore', 'Carlamina Scarfoni']\n"
     ]
    }
   ],
   "source": [
    "raw_names = re.findall('[A-Za-z\\\\.\\\\,\\\\s]{2,}', data)\n",
    "names = [n.replace('\\t', 't') for n in raw_names]\n",
    "print(names)\n"
   ]
  },
  {
   "cell_type": "markdown",
   "id": "d0343519-6027-43aa-8db2-ca980e5c629a",
   "metadata": {},
   "source": [
    "##### **Rearrange the vector so that all elements conform to the standard “firstname lastname”, preserving any titles (e.g., “Rev.”, “Dr.”, etc) or middle/second names.**"
   ]
  },
  {
   "cell_type": "code",
   "execution_count": 8,
   "id": "44271fd9-7500-406a-bc8f-0bbc89ce3441",
   "metadata": {},
   "outputs": [
    {
     "name": "stdout",
     "output_type": "stream",
     "text": [
      "['Dr. Bernard Lander', 'Donnatella Hollingdorp', 'F. Scott Fitzgerald', 'Rev. Martin Luther King', 'Theodore Snodgrass', 'Carlamina Scarfoni']\n"
     ]
    }
   ],
   "source": [
    "yuh= []\n",
    "for n in names:\n",
    "    checker = re.findall('[\\\\,]',n)\n",
    "    if checker:\n",
    "        new= n.replace(',','')\n",
    "        parted= new.split()\n",
    "        last = parted.pop(0)   \n",
    "        parted.append(last)     \n",
    "        result = ' '.join(parted)\n",
    "        yuh.append(result)              \n",
    "        \n",
    "    else: \n",
    "        yuh.append(n)\n",
    "print(yuh)"
   ]
  },
  {
   "cell_type": "markdown",
   "id": "fb706ecf-758e-4455-940d-808d38ffb19d",
   "metadata": {},
   "source": [
    "##### **Construct a logical vector indicating whether a character has a title (i.e., Rev. and Dr.)**"
   ]
  },
  {
   "cell_type": "code",
   "execution_count": 10,
   "id": "195a6ae8-95dc-4265-ab8b-e70820b25ff0",
   "metadata": {},
   "outputs": [
    {
     "name": "stdout",
     "output_type": "stream",
     "text": [
      "Do the names have titles?\n",
      "Dr. Bernard Lander: True\n",
      "Donnatella Hollingdorp: False\n",
      "F. Scott Fitzgerald: False\n",
      "Rev. Martin Luther King: True\n",
      "Theodore Snodgrass: False\n",
      "Carlamina Scarfoni: False\n"
     ]
    }
   ],
   "source": [
    "print(\"Do the names have titles?\")\n",
    "for t in yuh:\n",
    "    if re.match(\"^[A-Za-z]{2,}\\\\.\", t):\n",
    "        print(t + \": True\")\n",
    "    else:\n",
    "        print(t + \": False\")\n"
   ]
  },
  {
   "cell_type": "markdown",
   "id": "5dac056b-2909-4c6c-88ca-f35df0039203",
   "metadata": {},
   "source": [
    "##### **Construct a logical vector indicating whether a character has a middle/second name.**"
   ]
  },
  {
   "cell_type": "code",
   "execution_count": 12,
   "id": "5649eb0a-0998-4de3-bc62-53cf08186990",
   "metadata": {},
   "outputs": [
    {
     "name": "stdout",
     "output_type": "stream",
     "text": [
      "Do the names have middle/second names?\n",
      "Dr. Bernard Lander: False\n",
      "Donnatella Hollingdorp: False\n",
      "F. Scott Fitzgerald: False\n",
      "Rev. Martin Luther King: True\n",
      "Theodore Snodgrass: False\n",
      "Carlamina Scarfoni: False\n"
     ]
    }
   ],
   "source": [
    "print(\"Do the names have middle/second names?\")\n",
    "\n",
    "for n in yuh:\n",
    "    parted = n.split()\n",
    "    if '.' in n:\n",
    "        parted.pop(0) \n",
    "        if len(parted) > 2:\n",
    "            print(n+ \": True\")\n",
    "        else:\n",
    "            print(n+ \": False\")\n",
    "    \n",
    "    elif len(parted) > 2:\n",
    "        print(n+ \": True\")\n",
    "    else:\n",
    "        print(n+ \": False\")\n"
   ]
  },
  {
   "cell_type": "markdown",
   "id": "dbbdcfec-50ac-450b-ad68-7d9c71bc19c1",
   "metadata": {},
   "source": [
    "## Instructions \n",
    "(Part 2)  \n",
    "Consider the HTML string <'title'>+++BREAKING NEWS+++<'title'>. \n",
    "\n",
    "* We would like to extract the first HTML  tag (i.e., <'title'>). To do so we write the regular expression “<.+>”. Explain why this fails and correct the expression."
   ]
  },
  {
   "cell_type": "code",
   "execution_count": 35,
   "id": "f1f76ffe-da5d-431d-acee-1fa12346ab2a",
   "metadata": {},
   "outputs": [],
   "source": [
    "# Part 2\n",
    "html_string = \"<title>+++BREAKING NEWS+++<title>\""
   ]
  },
  {
   "cell_type": "code",
   "execution_count": 37,
   "id": "96ed39b6-d098-4ac1-8c10-815b2edaf23c",
   "metadata": {},
   "outputs": [
    {
     "name": "stdout",
     "output_type": "stream",
     "text": [
      "['<title>+++BREAKING NEWS+++<title>']\n"
     ]
    }
   ],
   "source": [
    "wrong = re.findall('<.+>', html_string)\n",
    "print(wrong)"
   ]
  },
  {
   "cell_type": "markdown",
   "id": "144123fb-856c-4a89-806e-c932e238071d",
   "metadata": {},
   "source": [
    "##### Explain why it fails:  \n",
    "This fails because the pattern is greedy so it grabs everything from the first \"<\" to the last \">\" instead of stopping at the first tag."
   ]
  },
  {
   "cell_type": "code",
   "execution_count": 44,
   "id": "ed8142c3-08b0-4460-aff5-8eafe3c06d06",
   "metadata": {},
   "outputs": [
    {
     "name": "stdout",
     "output_type": "stream",
     "text": [
      "<title>\n"
     ]
    }
   ],
   "source": [
    "#correct\n",
    "right = re.findall('<.+?>', html_string)\n",
    "print(right[0])"
   ]
  },
  {
   "cell_type": "markdown",
   "id": "be41f1fd-7964-44e9-8eda-0224ad1f3096",
   "metadata": {},
   "source": [
    "## Instructions \n",
    "(Part 3)  \n",
    "Consider the string “(5-3)^2=5^2-2*5*3+3^2”.\n",
    "* We would like to extract the equation in its entirety from the string. To do so we write the regular expression “[^0-9=+*()]+”. Explain why this fails and correct the expression."
   ]
  },
  {
   "cell_type": "code",
   "execution_count": 19,
   "id": "d9ece16c-5c23-472b-acc7-c4e97176992f",
   "metadata": {
    "scrolled": true
   },
   "outputs": [],
   "source": [
    "num_string = \"(5-3)^2=5^2-253+3^2\""
   ]
  },
  {
   "cell_type": "code",
   "execution_count": 20,
   "id": "49c8cfe2-7313-4482-861a-f7261661e632",
   "metadata": {},
   "outputs": [
    {
     "name": "stdout",
     "output_type": "stream",
     "text": [
      "['-', '^', '^', '-', '^']\n"
     ]
    }
   ],
   "source": [
    "wrong2 = re.findall('[^0-9=+*()]+', num_string)\n",
    "print(wrong2)"
   ]
  },
  {
   "cell_type": "markdown",
   "id": "08ef3cb7-8052-4e78-8f8d-0dc54a459e46",
   "metadata": {},
   "source": [
    "##### Explain why it fails:  \n",
    "The expression fails because it matches characters not in the equation so to fix it remove the ^ and list all the characters needed."
   ]
  },
  {
   "cell_type": "code",
   "execution_count": 22,
   "id": "1f2f5502-b7f9-4ac2-aa90-1b92df2c98bf",
   "metadata": {
    "scrolled": true
   },
   "outputs": [
    {
     "name": "stdout",
     "output_type": "stream",
     "text": [
      "['(5-3)^2=5^2-253+3^2']\n"
     ]
    }
   ],
   "source": [
    "#correct\n",
    "right2 = re.findall('[0-9=+\\\\-*^()]+', num_string)\n",
    "print(right2)"
   ]
  }
 ],
 "metadata": {
  "kernelspec": {
   "display_name": "Python [conda env:base] *",
   "language": "python",
   "name": "conda-base-py"
  },
  "language_info": {
   "codemirror_mode": {
    "name": "ipython",
    "version": 3
   },
   "file_extension": ".py",
   "mimetype": "text/x-python",
   "name": "python",
   "nbconvert_exporter": "python",
   "pygments_lexer": "ipython3",
   "version": "3.12.7"
  }
 },
 "nbformat": 4,
 "nbformat_minor": 5
}
