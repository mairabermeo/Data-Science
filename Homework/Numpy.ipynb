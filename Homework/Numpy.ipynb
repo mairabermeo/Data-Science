{
 "cells": [
  {
   "cell_type": "markdown",
   "id": "20c376a6-0ad8-4a08-b14d-abc26f2491a2",
   "metadata": {},
   "source": [
    "# HW 2\n",
    "\n",
    "> Name: Maira Bermeo  \n",
    "> EMPL ID: 24175075"
   ]
  },
  {
   "cell_type": "markdown",
   "id": "1fbc721f-172c-4ddd-87c2-703ff36aa937",
   "metadata": {},
   "source": [
    "#### Problem 1:\n",
    "\n",
    "Write a Python/NumPy code block that finds the distinct/unique common items between these two\n",
    "arrays:\n",
    "a = np.array([1, 2, 3, 2, 3, 4, 3, 4, 5, 6])\n",
    "b = np.array([7, 2, 10, 2, 7, 4, 9, 4, 9, 8])\n",
    "Your output should contain only the distinct overlapping values. For example, if a 2 is found in both array a and array b,\n",
    "your output should contain only one 2 even if array a contains more than one 2 within it."
   ]
  },
  {
   "cell_type": "code",
   "execution_count": 4,
   "id": "997b2077-53ec-45ed-b42d-4ee93cf1a97d",
   "metadata": {},
   "outputs": [
    {
     "name": "stdout",
     "output_type": "stream",
     "text": [
      "Distinct/unique common items: [2 4]\n"
     ]
    }
   ],
   "source": [
    "import numpy as np\n",
    "\n",
    "a = np.array([1, 2, 3, 2, 3, 4, 3, 4, 5, 6]) \n",
    "b = np.array([7, 2, 10, 2, 7, 4, 9, 4, 9, 8])\n",
    "\n",
    "a_clean= np.unique(a)\n",
    "b_clean= np.unique(b)\n",
    "\n",
    "unique = np.intersect1d(a_clean, b_clean)\n",
    "print(\"Distinct/unique common items: \" +str(unique)) "
   ]
  },
  {
   "cell_type": "markdown",
   "id": "d02cb3af-2268-42db-8ec5-07b7a7b204af",
   "metadata": {},
   "source": [
    "#### Problem 2:\n",
    "\n",
    "Create the following 5x3 array using knowledge you have of Python’s / NumPy’s sequencing functionality\n",
    "so that you do not need to explicitly key in every integer value.\n",
    "\n",
    "1   6    11  \n",
    "2   7    12  \n",
    "3   8    13  \n",
    "4   9    14  \n",
    "5   10  15  \n"
   ]
  },
  {
   "cell_type": "code",
   "execution_count": 7,
   "id": "ecd8eebb-6f9f-4377-99df-de7ba4f5b553",
   "metadata": {},
   "outputs": [
    {
     "name": "stdout",
     "output_type": "stream",
     "text": [
      "[[ 1  6 11]\n",
      " [ 2  7 12]\n",
      " [ 3  8 13]\n",
      " [ 4  9 14]\n",
      " [ 5 10 15]]\n"
     ]
    }
   ],
   "source": [
    "array = np.arange(1, 16)\n",
    "array_fixed = array.reshape(3, 5)\n",
    "result = np.transpose(array_fixed)\n",
    "\n",
    "print(result)"
   ]
  },
  {
   "cell_type": "markdown",
   "id": "fc44d8fd-402f-48c6-9405-be0301cc5627",
   "metadata": {},
   "source": [
    "#### Problem 3:\n",
    "\n",
    "The process of transforming a multidimensional array into a unidimensional array is referred to as “flattening”. Transform the 5x3 array shown above in Problem 2 into a unidimensional array such that the sequence of values contained within the array is as follows: 1, 2, 3, 4, 5, 6, 7, 8, 9, 10, 11, 12, 13, 14, 15"
   ]
  },
  {
   "cell_type": "code",
   "execution_count": 15,
   "id": "f573c52a-a574-44e5-a577-fc6cbd678ae5",
   "metadata": {},
   "outputs": [
    {
     "name": "stdout",
     "output_type": "stream",
     "text": [
      "[ 1  2  3  4  5  6  7  8  9 10 11 12 13 14 15]\n"
     ]
    }
   ],
   "source": [
    "flat = result.flatten()\n",
    "flattened = np.sort(flat)\n",
    "print(flattened)"
   ]
  },
  {
   "cell_type": "markdown",
   "id": "991b8b98-3d5c-4057-898e-3a65c7f51ec6",
   "metadata": {},
   "source": [
    "#### Problem 4:\n",
    "\n",
    "Transform the 2-D array shown in Problem 2 into a 3 dimensional array such that the first column becomes the first dimension of the 3-D array, the second column becomes the second dimension of the 3-D array, and the third column becomes the third dimension of the 3-D array."
   ]
  },
  {
   "cell_type": "code",
   "execution_count": 20,
   "id": "26bdf526-388f-4795-aafe-ba60bab08882",
   "metadata": {
    "scrolled": true
   },
   "outputs": [
    {
     "name": "stdout",
     "output_type": "stream",
     "text": [
      "3D Array shape: (3, 5, 1)\n",
      "[[[ 1]\n",
      "  [ 2]\n",
      "  [ 3]\n",
      "  [ 4]\n",
      "  [ 5]]\n",
      "\n",
      " [[ 6]\n",
      "  [ 7]\n",
      "  [ 8]\n",
      "  [ 9]\n",
      "  [10]]\n",
      "\n",
      " [[11]\n",
      "  [12]\n",
      "  [13]\n",
      "  [14]\n",
      "  [15]]]\n"
     ]
    }
   ],
   "source": [
    "three_d = result.T.reshape(3, 5, 1)\n",
    "print(\"3D Array shape:\", three_d.shape)\n",
    "print(three_d)"
   ]
  },
  {
   "cell_type": "markdown",
   "id": "f88f62d0-c382-4bdb-9dee-052709b4a5f5",
   "metadata": {},
   "source": [
    "#### Problem 5:\n",
    "\n",
    "Transform the 3-D array you created in Problem 4 back to the 2-dimensional format shown in Problem 2."
   ]
  },
  {
   "cell_type": "code",
   "execution_count": 11,
   "id": "cfbb25dc-7c9b-4d98-9613-307411716334",
   "metadata": {
    "scrolled": true
   },
   "outputs": [
    {
     "name": "stdout",
     "output_type": "stream",
     "text": [
      "[[ 1  6 11]\n",
      " [ 2  7 12]\n",
      " [ 3  8 13]\n",
      " [ 4  9 14]\n",
      " [ 5 10 15]]\n"
     ]
    }
   ],
   "source": [
    "back_to_2d = three_d.reshape(3, 5).transpose(1, 0)\n",
    "print(back_to_2d)"
   ]
  },
  {
   "cell_type": "markdown",
   "id": "1db4dbca-414d-427b-bd05-c3fd46559b49",
   "metadata": {},
   "source": [
    "#### Problem 6:\n",
    "\n",
    "You are given the following two arrays:\n",
    "a = np.array([12, 5, 7, 15, 3, 1, 8])\n",
    "b = np.array([14, 6, 3, 11, 19, 12, 5])\n",
    "Write a Python/Numpy code block that removes from array a any items that are also present in array b."
   ]
  },
  {
   "cell_type": "code",
   "execution_count": 13,
   "id": "42bff496-9fd1-4f63-b690-b9c137b88a0f",
   "metadata": {},
   "outputs": [
    {
     "name": "stdout",
     "output_type": "stream",
     "text": [
      "Filtered array:[ 7 15  1  8]\n"
     ]
    }
   ],
   "source": [
    "a = np.array([12, 5, 7, 15, 3, 1, 8]) \n",
    "b = np.array([14, 6, 3, 11, 19, 12, 5])\n",
    "\n",
    "new = a[~np.isin(a, b)]\n",
    "print(\"Filtered array:\"+ str(new))"
   ]
  },
  {
   "cell_type": "markdown",
   "id": "8927c589-7cdf-4427-91e8-fc80f5d1e41a",
   "metadata": {},
   "source": [
    "#### Problem 7:\n",
    "\n",
    "Answer the following questions about the accompanying data file.  \n",
    "\n",
    "What is the maximum yearly NYC consumption of water in millions of gallons per day?  \n",
    "How many calendar years are represented within this data set? NumPy's shape command is one way to find\n",
    "out.  \n",
    "What is the mean and the standard deviation of the per capita daily water consumption?  \n",
    "What is the increase or decrease in population from year to year? Use NumPy's `diff` function to create an arrayof differences and save that to a variable called \"pop_diff\", then print that variable to the screen.  "
   ]
  },
  {
   "cell_type": "code",
   "execution_count": 15,
   "id": "5e0873d6-595a-41e8-b704-098b4377fa40",
   "metadata": {},
   "outputs": [
    {
     "name": "stdout",
     "output_type": "stream",
     "text": [
      "   Year  New York City Population  NYC Consumption(Million gallons per day)  \\\n",
      "0  1979                 7102100.0                                    1512.0   \n",
      "1  1980                 7071639.0                                    1506.0   \n",
      "2  1981                 7089241.0                                    1309.0   \n",
      "3  1982                 7109105.0                                    1382.0   \n",
      "4  1983                 7181224.0                                    1424.0   \n",
      "\n",
      "   Per Capita(Gallons per person per day)  \n",
      "0                                     213  \n",
      "1                                     213  \n",
      "2                                     185  \n",
      "3                                     194  \n",
      "4                                     198  \n"
     ]
    }
   ],
   "source": [
    "import pandas as pd\n",
    "\n",
    "NYC_consumption = pd.read_excel('Module6_Data.xlsx')\n",
    "\n",
    "print(NYC_consumption.head())"
   ]
  },
  {
   "cell_type": "code",
   "execution_count": 16,
   "id": "8da88ff3-e26a-4221-9b82-1636ca2c145f",
   "metadata": {},
   "outputs": [
    {
     "name": "stdout",
     "output_type": "stream",
     "text": [
      "Max yearly NYC water consumption (MGD): 1512.0\n"
     ]
    }
   ],
   "source": [
    "# What is the maximum yearly NYC consumption of water in millions of gallons per day?  \n",
    "max_consumption = NYC_consumption['NYC Consumption(Million gallons per day)'].max()\n",
    "print(\"Max yearly NYC water consumption (MGD): \"+ str(max_consumption))\n"
   ]
  },
  {
   "cell_type": "code",
   "execution_count": 17,
   "id": "46e7ce2e-b9d7-4c2c-b979-65b09d2606b4",
   "metadata": {},
   "outputs": [
    {
     "name": "stdout",
     "output_type": "stream",
     "text": [
      "Number of calendar years represented: 39\n"
     ]
    }
   ],
   "source": [
    "# How many calendar years are represented within this data set? NumPy's shape command is one way to find out.\n",
    "num_years = NYC_consumption.shape[0]\n",
    "print(\"Number of calendar years represented: \" + str(num_years))"
   ]
  },
  {
   "cell_type": "code",
   "execution_count": 18,
   "id": "f07296b5-dba2-4895-9af0-f9b3c85d0aa9",
   "metadata": {},
   "outputs": [
    {
     "name": "stdout",
     "output_type": "stream",
     "text": [
      "Mean per capita (GPCD): 160.30769230769232\n",
      "Standard deviation of per capita (GPCD): 31.930973122258784\n"
     ]
    }
   ],
   "source": [
    "# What is the mean and the standard deviation of the per capita daily water consumption?  \n",
    "mean_per_capita = NYC_consumption['Per Capita(Gallons per person per day)'].mean()\n",
    "std_per_capita = NYC_consumption['Per Capita(Gallons per person per day)'].std()\n",
    "\n",
    "print(\"Mean per capita (GPCD): \"+ str(mean_per_capita))\n",
    "print(\"Standard deviation of per capita (GPCD): \"+ str( std_per_capita))"
   ]
  },
  {
   "cell_type": "code",
   "execution_count": 19,
   "id": "1672179e-2cea-4448-a29a-cc1b9ea454ac",
   "metadata": {},
   "outputs": [
    {
     "name": "stdout",
     "output_type": "stream",
     "text": [
      "Year-over-year population change: [-30461.   17602.   19864.   72119.   53290.   39540.   45192.   23230.\n",
      "  11243.   -9544.   -8525.   38851.   54443.   77222.   64292.   62582.\n",
      "  64772.   75631.   84816.   89401.   60618.   16685.5  16685.5  16685.5\n",
      "  16685.5  16685.5  16685.5  16685.5  16685.5  16685.5  16685.5 108965.\n",
      "  77081.   61281.   49530.   44512.   21171.   85025. ]\n"
     ]
    }
   ],
   "source": [
    "# What is the increase or decrease in population from year to year? Use NumPy's `diff` function to create an arrayof \n",
    "# differences and save that to a variable called \"pop_diff\", then print that variable to the screen.  \n",
    "pop_diff = np.diff(NYC_consumption['New York City Population'])\n",
    "print(\"Year-over-year population change: \"+ str( pop_diff))"
   ]
  }
 ],
 "metadata": {
  "kernelspec": {
   "display_name": "Python [conda env:base] *",
   "language": "python",
   "name": "conda-base-py"
  },
  "language_info": {
   "codemirror_mode": {
    "name": "ipython",
    "version": 3
   },
   "file_extension": ".py",
   "mimetype": "text/x-python",
   "name": "python",
   "nbconvert_exporter": "python",
   "pygments_lexer": "ipython3",
   "version": "3.12.7"
  }
 },
 "nbformat": 4,
 "nbformat_minor": 5
}
