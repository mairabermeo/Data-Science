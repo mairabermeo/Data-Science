{
  "nbformat": 4,
  "nbformat_minor": 0,
  "metadata": {
    "kernelspec": {
      "display_name": "Python 3",
      "language": "python",
      "name": "python3"
    },
    "language_info": {
      "codemirror_mode": {
        "name": "ipython",
        "version": 3
      },
      "file_extension": ".py",
      "mimetype": "text/x-python",
      "name": "python",
      "nbconvert_exporter": "python",
      "pygments_lexer": "ipython3",
      "version": "3.7.3"
    },
    "colab": {
      "name": "EDA Notes.ipynb",
      "provenance": []
    }
  },
  "cells": [
    {
      "cell_type": "markdown",
      "metadata": {
        "id": "r0a4KiGcAnVV"
      },
      "source": [
        "# General Comments\n",
        "\n",
        "\n",
        "- Always double-check your work to make sure that what you are submitting meets the stated requirements for the given Project or Assignment.\n",
        "\n",
        "\n",
        "- Always double-check your understanding of the definition/meaning of the attributes you have to work with: you may need to do some research (aka, develop some __domain knowledge__).\n",
        "\n",
        "\n",
        "- Always double-check the results of your analysis: Do your results make sense given what the raw data show? Do your graphics accurately reflect the data used to create them? etc.\n",
        "\n",
        "\n",
        "- Always double-check written content for spelling, capitalization, and grammar errors: your goal should be a \"professional\"-style deliverable.\n",
        "\n",
        "\n",
        "- Always double-check your Jupyter Notebook before submitting to ensure that graphics are displayed as you had expected and that Markdown cells are rendering as you had expected.\n"
      ]
    },
    {
      "cell_type": "markdown",
      "metadata": {
        "id": "mdPQbsPWAnVZ"
      },
      "source": [
        "# Exploratory Data Analysis"
      ]
    },
    {
      "cell_type": "markdown",
      "metadata": {
        "id": "qRQ5XOO1AnVa"
      },
      "source": [
        "## Exploratory Data Analysis (EDA)\n",
        "\n",
        "- EDA = Analyzing a data set for purposes of summarizing its characteristics, identifying relationships between its attributes, and discovering patterns, trends, outliers, missing values and invalid values within the data.\n",
        "\n",
        "\n",
        "- Thorough EDA work is crucial for purposes of making sense of a data set and helping you to determine what questions you can realistically expect to ask and answer using the contents of a data set.\n",
        "\n",
        "\n",
        "- __A concise explanatory narrative of your EDA findings is *ALWAYS* necessary: you need to be able to clearly communicate your EDA work to others__. If you can't clearly articulate your EDA findings, how can anyone else validate the work you've done?\n",
        "\n",
        "### Summarizing the Characteristics of Your Data\n",
        "\n",
        "- Use of summary statistics (e.g., max, min, mean, median, mode, interquartile range bounds, numeric value range bounds, etc.)\n",
        "\n",
        "\n",
        "- For numeric data: use of histograms, box plots, scatter plots, line plots\n",
        "\n",
        "\n",
        "- For categorical data: use of bar plots\n",
        "\n",
        "\n",
        "- For categorical data: How many valid categorizations are there for a given attribute? How are those categorizations identified within the data? What is the frequency/count of each possible categorization within the data set?\n",
        "\n",
        "### Identifying Relationships Between Attributes\n",
        "\n",
        "- Calculate correlations between numeric attributes: correlation matrices, pair plots, etc.\n",
        "\n",
        "\n",
        "- Use scatter plots to visualize the relationship between numeric attributes.\n",
        "\n",
        "\n",
        "- For categorical variables, bar plots should be used to assess the relationship between a given categorical variable and any other categorical or numeric variable.\n",
        "\n",
        "#### Why can't we use correlation metrics to assess relationships between / with categorical variables?\n",
        "\n",
        "- It is __NEVER__ appropriate to use a correlation calculation to either assess or determine \"correlations\" between numeric and categorical variables. Correlation equations provide an indication of the strength of a potential linear relationship between a pair of variables. __The \"spacing\" between categorical classifications has no interval OR ratio meaning__ since __categorical data is QUALITATIVE__ and __NOT QUANTITATIVE__. (For an explanation of nominal vs. ordinal vs. interval vs. ratio, see this link: https://www.graphpad.com/support/faq/what-is-the-difference-between-ordinal-interval-and-ratio-variables-why-should-i-care/#:~:text=right%20statistical%20analysis.-,Nominal,standard%20deviation%2C%20would%20be%20meaningless.). \n",
        "\n",
        "\n",
        "- __No meaningful mathematical result can be derived from the addition, subtraction, multiplication, or division of a categorical variable's possible data values__ since the nominally numeric values __are not QUANTITATIVE__.\n",
        "\n",
        "#### But what if we numerically encode the classifications?\n",
        "\n",
        "- Numeric encoding of classifications __merely replaces a text-based symbolic category label with digit-based symbolic category label__. Changing the form of the labels __in no way changes the fact that the \"spacing\" between the classification labels has no interval OR ratio meaning__. Therefore, the results of any \"math\" we apply to the digit-based labels __are STILL devoid of any interval OR ratio meaning__ since the digits are merely \"labels\" for __qualitative__ values.\n",
        "\n",
        "\n",
        "- So while you can obtain an output from a correlation calculation based on numeric encodings of categorical inputs, the output will not have any relevant \"meaning\" (i.e., garbage in ... garbage out.)\n",
        "\n",
        "### Discovering Patterns & Trends\n",
        "\n",
        "- For data that has a chronology, what (if any) repeating patterns can be identified? \n",
        "\n",
        "\n",
        "- For data that has a chronology, is there a directional tendency evident?\n",
        "\n",
        "### Outliers\n",
        "\n",
        "- For each attribute (both numeric and categorical): are there data values that fall far outside the norm for the data? \n",
        "\n",
        "\n",
        "- For numerics: use scatter plots + box plots to find outliers\n",
        "\n",
        "\n",
        "- For categoricals: check for items that either don't appear to conform to the known valid values for the attribute OR occur very infrequently within the attribute.\n",
        "\n",
        "### Missing / Invalid Data Values\n",
        "\n",
        "- For each attribute: take a count of the number of values that either don't conform to the attribute's known valid value range and/or that are missing in their entirety (e.g., how many 'NaN' values are found for a given attribute? What about other 'NaN' proxies, e.g., '?', 'unk', etc.)\n",
        "\n",
        "\n",
        "- What percentage of an attribute's values are missing/unknown?\n",
        "\n",
        "\n",
        "### Examples of How to Create a BarPlot for a Categorical Attribute\n",
        "\n",
        "- We'll use the 'hflights' data set from Project 1"
      ]
    },
    {
      "cell_type": "code",
      "metadata": {
        "id": "2IR-yz8LAnVa",
        "outputId": "863a0fe0-db56-428e-e412-182456fb1df7",
        "colab": {
          "base_uri": "https://localhost:8080/",
          "height": 224
        }
      },
      "source": [
        "import pandas as pd\n",
        "filename = \"https://raw.githubusercontent.com/jtopor/DAV-5400/master/Project1/hflights.csv\"\n",
        "df2 = pd.read_csv(filename)\n",
        "df2.head()"
      ],
      "execution_count": null,
      "outputs": [
        {
          "output_type": "execute_result",
          "data": {
            "text/html": [
              "<div>\n",
              "<style scoped>\n",
              "    .dataframe tbody tr th:only-of-type {\n",
              "        vertical-align: middle;\n",
              "    }\n",
              "\n",
              "    .dataframe tbody tr th {\n",
              "        vertical-align: top;\n",
              "    }\n",
              "\n",
              "    .dataframe thead th {\n",
              "        text-align: right;\n",
              "    }\n",
              "</style>\n",
              "<table border=\"1\" class=\"dataframe\">\n",
              "  <thead>\n",
              "    <tr style=\"text-align: right;\">\n",
              "      <th></th>\n",
              "      <th>Year</th>\n",
              "      <th>Month</th>\n",
              "      <th>DayofMonth</th>\n",
              "      <th>DayOfWeek</th>\n",
              "      <th>DepTime</th>\n",
              "      <th>ArrTime</th>\n",
              "      <th>UniqueCarrier</th>\n",
              "      <th>FlightNum</th>\n",
              "      <th>TailNum</th>\n",
              "      <th>ActualElapsedTime</th>\n",
              "      <th>AirTime</th>\n",
              "      <th>ArrDelay</th>\n",
              "      <th>DepDelay</th>\n",
              "      <th>Origin</th>\n",
              "      <th>Dest</th>\n",
              "      <th>Distance</th>\n",
              "      <th>TaxiIn</th>\n",
              "      <th>TaxiOut</th>\n",
              "      <th>Cancelled</th>\n",
              "      <th>CancellationCode</th>\n",
              "      <th>Diverted</th>\n",
              "    </tr>\n",
              "  </thead>\n",
              "  <tbody>\n",
              "    <tr>\n",
              "      <th>0</th>\n",
              "      <td>2011</td>\n",
              "      <td>1</td>\n",
              "      <td>1</td>\n",
              "      <td>6</td>\n",
              "      <td>1400.0</td>\n",
              "      <td>1500.0</td>\n",
              "      <td>AA</td>\n",
              "      <td>428</td>\n",
              "      <td>N576AA</td>\n",
              "      <td>60.0</td>\n",
              "      <td>40.0</td>\n",
              "      <td>-10.0</td>\n",
              "      <td>0.0</td>\n",
              "      <td>IAH</td>\n",
              "      <td>DFW</td>\n",
              "      <td>224</td>\n",
              "      <td>7.0</td>\n",
              "      <td>13.0</td>\n",
              "      <td>0</td>\n",
              "      <td>NaN</td>\n",
              "      <td>0</td>\n",
              "    </tr>\n",
              "    <tr>\n",
              "      <th>1</th>\n",
              "      <td>2011</td>\n",
              "      <td>1</td>\n",
              "      <td>2</td>\n",
              "      <td>7</td>\n",
              "      <td>1401.0</td>\n",
              "      <td>1501.0</td>\n",
              "      <td>AA</td>\n",
              "      <td>428</td>\n",
              "      <td>N557AA</td>\n",
              "      <td>60.0</td>\n",
              "      <td>45.0</td>\n",
              "      <td>-9.0</td>\n",
              "      <td>1.0</td>\n",
              "      <td>IAH</td>\n",
              "      <td>DFW</td>\n",
              "      <td>224</td>\n",
              "      <td>6.0</td>\n",
              "      <td>9.0</td>\n",
              "      <td>0</td>\n",
              "      <td>NaN</td>\n",
              "      <td>0</td>\n",
              "    </tr>\n",
              "    <tr>\n",
              "      <th>2</th>\n",
              "      <td>2011</td>\n",
              "      <td>1</td>\n",
              "      <td>3</td>\n",
              "      <td>1</td>\n",
              "      <td>1352.0</td>\n",
              "      <td>1502.0</td>\n",
              "      <td>AA</td>\n",
              "      <td>428</td>\n",
              "      <td>N541AA</td>\n",
              "      <td>70.0</td>\n",
              "      <td>48.0</td>\n",
              "      <td>-8.0</td>\n",
              "      <td>-8.0</td>\n",
              "      <td>IAH</td>\n",
              "      <td>DFW</td>\n",
              "      <td>224</td>\n",
              "      <td>5.0</td>\n",
              "      <td>17.0</td>\n",
              "      <td>0</td>\n",
              "      <td>NaN</td>\n",
              "      <td>0</td>\n",
              "    </tr>\n",
              "    <tr>\n",
              "      <th>3</th>\n",
              "      <td>2011</td>\n",
              "      <td>1</td>\n",
              "      <td>4</td>\n",
              "      <td>2</td>\n",
              "      <td>1403.0</td>\n",
              "      <td>1513.0</td>\n",
              "      <td>AA</td>\n",
              "      <td>428</td>\n",
              "      <td>N403AA</td>\n",
              "      <td>70.0</td>\n",
              "      <td>39.0</td>\n",
              "      <td>3.0</td>\n",
              "      <td>3.0</td>\n",
              "      <td>IAH</td>\n",
              "      <td>DFW</td>\n",
              "      <td>224</td>\n",
              "      <td>9.0</td>\n",
              "      <td>22.0</td>\n",
              "      <td>0</td>\n",
              "      <td>NaN</td>\n",
              "      <td>0</td>\n",
              "    </tr>\n",
              "    <tr>\n",
              "      <th>4</th>\n",
              "      <td>2011</td>\n",
              "      <td>1</td>\n",
              "      <td>5</td>\n",
              "      <td>3</td>\n",
              "      <td>1405.0</td>\n",
              "      <td>1507.0</td>\n",
              "      <td>AA</td>\n",
              "      <td>428</td>\n",
              "      <td>N492AA</td>\n",
              "      <td>62.0</td>\n",
              "      <td>44.0</td>\n",
              "      <td>-3.0</td>\n",
              "      <td>5.0</td>\n",
              "      <td>IAH</td>\n",
              "      <td>DFW</td>\n",
              "      <td>224</td>\n",
              "      <td>9.0</td>\n",
              "      <td>9.0</td>\n",
              "      <td>0</td>\n",
              "      <td>NaN</td>\n",
              "      <td>0</td>\n",
              "    </tr>\n",
              "  </tbody>\n",
              "</table>\n",
              "</div>"
            ],
            "text/plain": [
              "   Year  Month  DayofMonth  ...  Cancelled  CancellationCode  Diverted\n",
              "0  2011      1           1  ...          0               NaN         0\n",
              "1  2011      1           2  ...          0               NaN         0\n",
              "2  2011      1           3  ...          0               NaN         0\n",
              "3  2011      1           4  ...          0               NaN         0\n",
              "4  2011      1           5  ...          0               NaN         0\n",
              "\n",
              "[5 rows x 21 columns]"
            ]
          },
          "metadata": {},
          "execution_count": 2
        }
      ]
    },
    {
      "cell_type": "code",
      "metadata": {
        "id": "kzv-Tf-dyy9H",
        "outputId": "9ffcb1d0-9f83-4180-b309-17ec5e822416",
        "colab": {
          "base_uri": "https://localhost:8080/",
          "height": 317
        }
      },
      "source": [
        "df2.describe()"
      ],
      "execution_count": null,
      "outputs": [
        {
          "output_type": "execute_result",
          "data": {
            "text/html": [
              "<div>\n",
              "<style scoped>\n",
              "    .dataframe tbody tr th:only-of-type {\n",
              "        vertical-align: middle;\n",
              "    }\n",
              "\n",
              "    .dataframe tbody tr th {\n",
              "        vertical-align: top;\n",
              "    }\n",
              "\n",
              "    .dataframe thead th {\n",
              "        text-align: right;\n",
              "    }\n",
              "</style>\n",
              "<table border=\"1\" class=\"dataframe\">\n",
              "  <thead>\n",
              "    <tr style=\"text-align: right;\">\n",
              "      <th></th>\n",
              "      <th>Year</th>\n",
              "      <th>Month</th>\n",
              "      <th>DayofMonth</th>\n",
              "      <th>DayOfWeek</th>\n",
              "      <th>DepTime</th>\n",
              "      <th>ArrTime</th>\n",
              "      <th>FlightNum</th>\n",
              "      <th>ActualElapsedTime</th>\n",
              "      <th>AirTime</th>\n",
              "      <th>ArrDelay</th>\n",
              "      <th>DepDelay</th>\n",
              "      <th>Distance</th>\n",
              "      <th>TaxiIn</th>\n",
              "      <th>TaxiOut</th>\n",
              "      <th>Cancelled</th>\n",
              "      <th>Diverted</th>\n",
              "    </tr>\n",
              "  </thead>\n",
              "  <tbody>\n",
              "    <tr>\n",
              "      <th>count</th>\n",
              "      <td>20000.0</td>\n",
              "      <td>20000.000000</td>\n",
              "      <td>20000.000000</td>\n",
              "      <td>20000.000000</td>\n",
              "      <td>19785.000000</td>\n",
              "      <td>19766.000000</td>\n",
              "      <td>20000.000000</td>\n",
              "      <td>19738.000000</td>\n",
              "      <td>19738.000000</td>\n",
              "      <td>19738.000000</td>\n",
              "      <td>19785.000000</td>\n",
              "      <td>20000.000000</td>\n",
              "      <td>19766.000000</td>\n",
              "      <td>19780.000000</td>\n",
              "      <td>20000.000000</td>\n",
              "      <td>20000.000000</td>\n",
              "    </tr>\n",
              "    <tr>\n",
              "      <th>mean</th>\n",
              "      <td>2011.0</td>\n",
              "      <td>1.054500</td>\n",
              "      <td>16.319000</td>\n",
              "      <td>4.020300</td>\n",
              "      <td>1396.328228</td>\n",
              "      <td>1586.669382</td>\n",
              "      <td>1626.416900</td>\n",
              "      <td>126.795319</td>\n",
              "      <td>105.584355</td>\n",
              "      <td>5.205340</td>\n",
              "      <td>8.297700</td>\n",
              "      <td>772.899550</td>\n",
              "      <td>6.076546</td>\n",
              "      <td>15.134328</td>\n",
              "      <td>0.011200</td>\n",
              "      <td>0.001900</td>\n",
              "    </tr>\n",
              "    <tr>\n",
              "      <th>std</th>\n",
              "      <td>0.0</td>\n",
              "      <td>0.227007</td>\n",
              "      <td>9.025692</td>\n",
              "      <td>2.096904</td>\n",
              "      <td>441.598739</td>\n",
              "      <td>458.489922</td>\n",
              "      <td>1142.067143</td>\n",
              "      <td>60.158125</td>\n",
              "      <td>57.655970</td>\n",
              "      <td>25.383494</td>\n",
              "      <td>23.934218</td>\n",
              "      <td>458.640531</td>\n",
              "      <td>4.085732</td>\n",
              "      <td>7.046056</td>\n",
              "      <td>0.105238</td>\n",
              "      <td>0.043549</td>\n",
              "    </tr>\n",
              "    <tr>\n",
              "      <th>min</th>\n",
              "      <td>2011.0</td>\n",
              "      <td>1.000000</td>\n",
              "      <td>1.000000</td>\n",
              "      <td>1.000000</td>\n",
              "      <td>1.000000</td>\n",
              "      <td>1.000000</td>\n",
              "      <td>1.000000</td>\n",
              "      <td>35.000000</td>\n",
              "      <td>23.000000</td>\n",
              "      <td>-49.000000</td>\n",
              "      <td>-18.000000</td>\n",
              "      <td>127.000000</td>\n",
              "      <td>1.000000</td>\n",
              "      <td>4.000000</td>\n",
              "      <td>0.000000</td>\n",
              "      <td>0.000000</td>\n",
              "    </tr>\n",
              "    <tr>\n",
              "      <th>25%</th>\n",
              "      <td>2011.0</td>\n",
              "      <td>1.000000</td>\n",
              "      <td>8.000000</td>\n",
              "      <td>2.000000</td>\n",
              "      <td>1026.000000</td>\n",
              "      <td>1224.250000</td>\n",
              "      <td>582.000000</td>\n",
              "      <td>74.000000</td>\n",
              "      <td>54.000000</td>\n",
              "      <td>-8.000000</td>\n",
              "      <td>-3.000000</td>\n",
              "      <td>351.000000</td>\n",
              "      <td>4.000000</td>\n",
              "      <td>10.000000</td>\n",
              "      <td>0.000000</td>\n",
              "      <td>0.000000</td>\n",
              "    </tr>\n",
              "    <tr>\n",
              "      <th>50%</th>\n",
              "      <td>2011.0</td>\n",
              "      <td>1.000000</td>\n",
              "      <td>17.000000</td>\n",
              "      <td>4.000000</td>\n",
              "      <td>1416.000000</td>\n",
              "      <td>1620.000000</td>\n",
              "      <td>1644.000000</td>\n",
              "      <td>123.000000</td>\n",
              "      <td>102.000000</td>\n",
              "      <td>0.000000</td>\n",
              "      <td>1.000000</td>\n",
              "      <td>787.000000</td>\n",
              "      <td>5.000000</td>\n",
              "      <td>14.000000</td>\n",
              "      <td>0.000000</td>\n",
              "      <td>0.000000</td>\n",
              "    </tr>\n",
              "    <tr>\n",
              "      <th>75%</th>\n",
              "      <td>2011.0</td>\n",
              "      <td>1.000000</td>\n",
              "      <td>25.000000</td>\n",
              "      <td>6.000000</td>\n",
              "      <td>1801.000000</td>\n",
              "      <td>1955.000000</td>\n",
              "      <td>2536.000000</td>\n",
              "      <td>162.000000</td>\n",
              "      <td>138.000000</td>\n",
              "      <td>11.000000</td>\n",
              "      <td>10.000000</td>\n",
              "      <td>1034.000000</td>\n",
              "      <td>7.000000</td>\n",
              "      <td>18.000000</td>\n",
              "      <td>0.000000</td>\n",
              "      <td>0.000000</td>\n",
              "    </tr>\n",
              "    <tr>\n",
              "      <th>max</th>\n",
              "      <td>2011.0</td>\n",
              "      <td>2.000000</td>\n",
              "      <td>31.000000</td>\n",
              "      <td>7.000000</td>\n",
              "      <td>2335.000000</td>\n",
              "      <td>2400.000000</td>\n",
              "      <td>7037.000000</td>\n",
              "      <td>539.000000</td>\n",
              "      <td>499.000000</td>\n",
              "      <td>775.000000</td>\n",
              "      <td>780.000000</td>\n",
              "      <td>3904.000000</td>\n",
              "      <td>140.000000</td>\n",
              "      <td>78.000000</td>\n",
              "      <td>1.000000</td>\n",
              "      <td>1.000000</td>\n",
              "    </tr>\n",
              "  </tbody>\n",
              "</table>\n",
              "</div>"
            ],
            "text/plain": [
              "          Year         Month  ...     Cancelled      Diverted\n",
              "count  20000.0  20000.000000  ...  20000.000000  20000.000000\n",
              "mean    2011.0      1.054500  ...      0.011200      0.001900\n",
              "std        0.0      0.227007  ...      0.105238      0.043549\n",
              "min     2011.0      1.000000  ...      0.000000      0.000000\n",
              "25%     2011.0      1.000000  ...      0.000000      0.000000\n",
              "50%     2011.0      1.000000  ...      0.000000      0.000000\n",
              "75%     2011.0      1.000000  ...      0.000000      0.000000\n",
              "max     2011.0      2.000000  ...      1.000000      1.000000\n",
              "\n",
              "[8 rows x 16 columns]"
            ]
          },
          "metadata": {},
          "execution_count": 3
        }
      ]
    },
    {
      "cell_type": "code",
      "metadata": {
        "id": "Xui0EO14AnVb",
        "outputId": "09c82d75-f6a4-4089-959c-0473d22803cf"
      },
      "source": [
        "# create a barplot for the UniqueCarrier attribute\n",
        "# use the value.counts() method to tally up the counts of distinct\n",
        "# values within the attribute, then invoke the bar plot method\n",
        "%matplotlib inline\n",
        "\n",
        "bplt = df2['UniqueCarrier'].value_counts().plot.bar(title = \"Freq Dist of UniqueCarrier\")\n",
        "bplt;"
      ],
      "execution_count": null,
      "outputs": [
        {
          "output_type": "display_data",
          "data": {
            "image/png": "[encoded data removed]",
            "text/plain": [
              "<Figure size 432x288 with 1 Axes>"
            ]
          },
          "metadata": {
            "tags": [],
            "needs_background": "light"
          }
        }
      ]
    },
    {
      "cell_type": "markdown",
      "metadata": {
        "id": "tSrCzXqBAnVc"
      },
      "source": [
        "The frequency distribution of the UniqueCarrier attribute provides us with a count of the number of flights operated by each airline, e.g., Continental (CO) operated nearly 7000 total outbound flights from IAH and HOU during the timeframe covered by the data set."
      ]
    },
    {
      "cell_type": "code",
      "metadata": {
        "id": "j06udBKHAnVc",
        "outputId": "66427878-cbf5-43e7-e8f6-c452ce437ae7"
      },
      "source": [
        "# create a bar plot for the DayOfWeek attribute\n",
        "bplt2 = df2['DayOfWeek'].value_counts().plot.bar(title = \"Freq Dist of DayOfWeek\")\n",
        "bplt2;"
      ],
      "execution_count": null,
      "outputs": [
        {
          "output_type": "display_data",
          "data": {
            "image/png": "[encoded data removed]",
            "text/plain": [
              "<Figure size 432x288 with 1 Axes>"
            ]
          },
          "metadata": {
            "tags": [],
            "needs_background": "light"
          }
        }
      ]
    },
    {
      "cell_type": "markdown",
      "metadata": {
        "id": "oMPyy5ioAnVc"
      },
      "source": [
        "The frequency distribution of the DayOfWeek attribute tells us how many flights departed from IAH and HOU for each day of the week during the timeframe covered by the data set. Which day of the week was the busiest? Which day of the week was the least busy?\n",
        "\n",
        "\n",
        "### Creating a Correlation Matrix\n",
        "\n",
        "- A correlation matrix can help you understand the relatiobships between __numeric__ variables within a data set.\n",
        "\n",
        "\n",
        "- Positive numbers indicate a positive relationship between the attributes (i.e., as the values of one attribute increase, the values of the second attribute are likely to increase).\n",
        "\n",
        "\n",
        "- Negative numbers indicate a negative relationship between the attributes (e.g., as the values of one attribute increase the values of the second attribute are likely to decrease).\n",
        "\n",
        "\n",
        "- The larger the correlation value, the greater the degree of correlation (either positive or negative) between the variables.\n",
        "\n",
        "\n",
        "- Correlation metrics are not proof of a __meaningful__ correlation between two attributes: __correlation does not imply \"causation\"__!!! It is possible to find meaningless correlations between all sorts of data values.\n",
        "\n",
        "\n",
        "- Correlation metrics can provide clues as to which variable pairs might be worthy of further examination to determine whether or not they have a __meaningful__ correlation.\n",
        "\n",
        "\n",
        "- Even relatively low correlation metrics can be indicative of a meaningful directional relationship between two attributes/variables.\n",
        "\n",
        "\n",
        "#### An Example of a Correlation Matrix (hflights data set)"
      ]
    },
    {
      "cell_type": "code",
      "metadata": {
        "id": "a4y7mlV7AnVd",
        "outputId": "3685042d-3e89-428a-e4f4-28150121bffd"
      },
      "source": [
        "# create a correlation matrix for the attributes within the data frame\n",
        "df2.corr()"
      ],
      "execution_count": null,
      "outputs": [
        {
          "output_type": "execute_result",
          "data": {
            "text/html": [
              "<div>\n",
              "<style scoped>\n",
              "    .dataframe tbody tr th:only-of-type {\n",
              "        vertical-align: middle;\n",
              "    }\n",
              "\n",
              "    .dataframe tbody tr th {\n",
              "        vertical-align: top;\n",
              "    }\n",
              "\n",
              "    .dataframe thead th {\n",
              "        text-align: right;\n",
              "    }\n",
              "</style>\n",
              "<table border=\"1\" class=\"dataframe\">\n",
              "  <thead>\n",
              "    <tr style=\"text-align: right;\">\n",
              "      <th></th>\n",
              "      <th>Year</th>\n",
              "      <th>Month</th>\n",
              "      <th>DayofMonth</th>\n",
              "      <th>DayOfWeek</th>\n",
              "      <th>DepTime</th>\n",
              "      <th>ArrTime</th>\n",
              "      <th>FlightNum</th>\n",
              "      <th>ActualElapsedTime</th>\n",
              "      <th>AirTime</th>\n",
              "      <th>ArrDelay</th>\n",
              "      <th>DepDelay</th>\n",
              "      <th>Distance</th>\n",
              "      <th>TaxiIn</th>\n",
              "      <th>TaxiOut</th>\n",
              "      <th>Cancelled</th>\n",
              "      <th>Diverted</th>\n",
              "    </tr>\n",
              "  </thead>\n",
              "  <tbody>\n",
              "    <tr>\n",
              "      <th>Year</th>\n",
              "      <td>NaN</td>\n",
              "      <td>NaN</td>\n",
              "      <td>NaN</td>\n",
              "      <td>NaN</td>\n",
              "      <td>NaN</td>\n",
              "      <td>NaN</td>\n",
              "      <td>NaN</td>\n",
              "      <td>NaN</td>\n",
              "      <td>NaN</td>\n",
              "      <td>NaN</td>\n",
              "      <td>NaN</td>\n",
              "      <td>NaN</td>\n",
              "      <td>NaN</td>\n",
              "      <td>NaN</td>\n",
              "      <td>NaN</td>\n",
              "      <td>NaN</td>\n",
              "    </tr>\n",
              "    <tr>\n",
              "      <th>Month</th>\n",
              "      <td>NaN</td>\n",
              "      <td>1.000000</td>\n",
              "      <td>0.177819</td>\n",
              "      <td>0.049042</td>\n",
              "      <td>0.004809</td>\n",
              "      <td>0.007703</td>\n",
              "      <td>-0.144629</td>\n",
              "      <td>0.117162</td>\n",
              "      <td>0.106613</td>\n",
              "      <td>0.045889</td>\n",
              "      <td>0.063908</td>\n",
              "      <td>0.109850</td>\n",
              "      <td>0.068020</td>\n",
              "      <td>0.088724</td>\n",
              "      <td>0.005844</td>\n",
              "      <td>-0.000359</td>\n",
              "    </tr>\n",
              "    <tr>\n",
              "      <th>DayofMonth</th>\n",
              "      <td>NaN</td>\n",
              "      <td>0.177819</td>\n",
              "      <td>1.000000</td>\n",
              "      <td>-0.004395</td>\n",
              "      <td>-0.007822</td>\n",
              "      <td>-0.001269</td>\n",
              "      <td>-0.028473</td>\n",
              "      <td>0.019835</td>\n",
              "      <td>0.008580</td>\n",
              "      <td>-0.058173</td>\n",
              "      <td>-0.058212</td>\n",
              "      <td>0.017866</td>\n",
              "      <td>-0.000509</td>\n",
              "      <td>0.099405</td>\n",
              "      <td>-0.023081</td>\n",
              "      <td>-0.008030</td>\n",
              "    </tr>\n",
              "    <tr>\n",
              "      <th>DayOfWeek</th>\n",
              "      <td>NaN</td>\n",
              "      <td>0.049042</td>\n",
              "      <td>-0.004395</td>\n",
              "      <td>1.000000</td>\n",
              "      <td>0.015308</td>\n",
              "      <td>0.014751</td>\n",
              "      <td>0.003954</td>\n",
              "      <td>0.012862</td>\n",
              "      <td>0.020350</td>\n",
              "      <td>-0.030531</td>\n",
              "      <td>-0.013786</td>\n",
              "      <td>0.027737</td>\n",
              "      <td>0.009283</td>\n",
              "      <td>-0.062055</td>\n",
              "      <td>-0.047028</td>\n",
              "      <td>-0.012469</td>\n",
              "    </tr>\n",
              "    <tr>\n",
              "      <th>DepTime</th>\n",
              "      <td>NaN</td>\n",
              "      <td>0.004809</td>\n",
              "      <td>-0.007822</td>\n",
              "      <td>0.015308</td>\n",
              "      <td>1.000000</td>\n",
              "      <td>0.868545</td>\n",
              "      <td>0.005284</td>\n",
              "      <td>-0.053730</td>\n",
              "      <td>-0.056142</td>\n",
              "      <td>0.199604</td>\n",
              "      <td>0.218022</td>\n",
              "      <td>-0.061195</td>\n",
              "      <td>-0.053457</td>\n",
              "      <td>0.031561</td>\n",
              "      <td>0.004289</td>\n",
              "      <td>-0.004613</td>\n",
              "    </tr>\n",
              "    <tr>\n",
              "      <th>ArrTime</th>\n",
              "      <td>NaN</td>\n",
              "      <td>0.007703</td>\n",
              "      <td>-0.001269</td>\n",
              "      <td>0.014751</td>\n",
              "      <td>0.868545</td>\n",
              "      <td>1.000000</td>\n",
              "      <td>-0.006722</td>\n",
              "      <td>0.043078</td>\n",
              "      <td>0.034020</td>\n",
              "      <td>0.126469</td>\n",
              "      <td>0.139104</td>\n",
              "      <td>0.056867</td>\n",
              "      <td>0.007496</td>\n",
              "      <td>0.085209</td>\n",
              "      <td>NaN</td>\n",
              "      <td>-0.004453</td>\n",
              "    </tr>\n",
              "    <tr>\n",
              "      <th>FlightNum</th>\n",
              "      <td>NaN</td>\n",
              "      <td>-0.144629</td>\n",
              "      <td>-0.028473</td>\n",
              "      <td>0.003954</td>\n",
              "      <td>0.005284</td>\n",
              "      <td>-0.006722</td>\n",
              "      <td>1.000000</td>\n",
              "      <td>-0.240650</td>\n",
              "      <td>-0.244212</td>\n",
              "      <td>-0.030760</td>\n",
              "      <td>-0.079826</td>\n",
              "      <td>-0.247541</td>\n",
              "      <td>-0.062218</td>\n",
              "      <td>-0.019991</td>\n",
              "      <td>-0.005918</td>\n",
              "      <td>0.017362</td>\n",
              "    </tr>\n",
              "    <tr>\n",
              "      <th>ActualElapsedTime</th>\n",
              "      <td>NaN</td>\n",
              "      <td>0.117162</td>\n",
              "      <td>0.019835</td>\n",
              "      <td>0.012862</td>\n",
              "      <td>-0.053730</td>\n",
              "      <td>0.043078</td>\n",
              "      <td>-0.240650</td>\n",
              "      <td>1.000000</td>\n",
              "      <td>0.990503</td>\n",
              "      <td>0.081460</td>\n",
              "      <td>0.072029</td>\n",
              "      <td>0.969355</td>\n",
              "      <td>0.257506</td>\n",
              "      <td>0.283326</td>\n",
              "      <td>NaN</td>\n",
              "      <td>NaN</td>\n",
              "    </tr>\n",
              "    <tr>\n",
              "      <th>AirTime</th>\n",
              "      <td>NaN</td>\n",
              "      <td>0.106613</td>\n",
              "      <td>0.008580</td>\n",
              "      <td>0.020350</td>\n",
              "      <td>-0.056142</td>\n",
              "      <td>0.034020</td>\n",
              "      <td>-0.244212</td>\n",
              "      <td>0.990503</td>\n",
              "      <td>1.000000</td>\n",
              "      <td>0.054197</td>\n",
              "      <td>0.075957</td>\n",
              "      <td>0.975277</td>\n",
              "      <td>0.185612</td>\n",
              "      <td>0.166291</td>\n",
              "      <td>NaN</td>\n",
              "      <td>NaN</td>\n",
              "    </tr>\n",
              "    <tr>\n",
              "      <th>ArrDelay</th>\n",
              "      <td>NaN</td>\n",
              "      <td>0.045889</td>\n",
              "      <td>-0.058173</td>\n",
              "      <td>-0.030531</td>\n",
              "      <td>0.199604</td>\n",
              "      <td>0.126469</td>\n",
              "      <td>-0.030760</td>\n",
              "      <td>0.081460</td>\n",
              "      <td>0.054197</td>\n",
              "      <td>1.000000</td>\n",
              "      <td>0.911470</td>\n",
              "      <td>0.025076</td>\n",
              "      <td>0.125916</td>\n",
              "      <td>0.178892</td>\n",
              "      <td>NaN</td>\n",
              "      <td>NaN</td>\n",
              "    </tr>\n",
              "    <tr>\n",
              "      <th>DepDelay</th>\n",
              "      <td>NaN</td>\n",
              "      <td>0.063908</td>\n",
              "      <td>-0.058212</td>\n",
              "      <td>-0.013786</td>\n",
              "      <td>0.218022</td>\n",
              "      <td>0.139104</td>\n",
              "      <td>-0.079826</td>\n",
              "      <td>0.072029</td>\n",
              "      <td>0.075957</td>\n",
              "      <td>0.911470</td>\n",
              "      <td>1.000000</td>\n",
              "      <td>0.081125</td>\n",
              "      <td>0.032882</td>\n",
              "      <td>-0.024821</td>\n",
              "      <td>0.015482</td>\n",
              "      <td>0.017638</td>\n",
              "    </tr>\n",
              "    <tr>\n",
              "      <th>Distance</th>\n",
              "      <td>NaN</td>\n",
              "      <td>0.109850</td>\n",
              "      <td>0.017866</td>\n",
              "      <td>0.027737</td>\n",
              "      <td>-0.061195</td>\n",
              "      <td>0.056867</td>\n",
              "      <td>-0.247541</td>\n",
              "      <td>0.969355</td>\n",
              "      <td>0.975277</td>\n",
              "      <td>0.025076</td>\n",
              "      <td>0.081125</td>\n",
              "      <td>1.000000</td>\n",
              "      <td>0.198693</td>\n",
              "      <td>0.179851</td>\n",
              "      <td>-0.003866</td>\n",
              "      <td>0.018190</td>\n",
              "    </tr>\n",
              "    <tr>\n",
              "      <th>TaxiIn</th>\n",
              "      <td>NaN</td>\n",
              "      <td>0.068020</td>\n",
              "      <td>-0.000509</td>\n",
              "      <td>0.009283</td>\n",
              "      <td>-0.053457</td>\n",
              "      <td>0.007496</td>\n",
              "      <td>-0.062218</td>\n",
              "      <td>0.257506</td>\n",
              "      <td>0.185612</td>\n",
              "      <td>0.125916</td>\n",
              "      <td>0.032882</td>\n",
              "      <td>0.198693</td>\n",
              "      <td>1.000000</td>\n",
              "      <td>0.099300</td>\n",
              "      <td>NaN</td>\n",
              "      <td>0.003904</td>\n",
              "    </tr>\n",
              "    <tr>\n",
              "      <th>TaxiOut</th>\n",
              "      <td>NaN</td>\n",
              "      <td>0.088724</td>\n",
              "      <td>0.099405</td>\n",
              "      <td>-0.062055</td>\n",
              "      <td>0.031561</td>\n",
              "      <td>0.085209</td>\n",
              "      <td>-0.019991</td>\n",
              "      <td>0.283326</td>\n",
              "      <td>0.166291</td>\n",
              "      <td>0.178892</td>\n",
              "      <td>-0.024821</td>\n",
              "      <td>0.179851</td>\n",
              "      <td>0.099300</td>\n",
              "      <td>1.000000</td>\n",
              "      <td>-0.000776</td>\n",
              "      <td>-0.001983</td>\n",
              "    </tr>\n",
              "    <tr>\n",
              "      <th>Cancelled</th>\n",
              "      <td>NaN</td>\n",
              "      <td>0.005844</td>\n",
              "      <td>-0.023081</td>\n",
              "      <td>-0.047028</td>\n",
              "      <td>0.004289</td>\n",
              "      <td>NaN</td>\n",
              "      <td>-0.005918</td>\n",
              "      <td>NaN</td>\n",
              "      <td>NaN</td>\n",
              "      <td>NaN</td>\n",
              "      <td>0.015482</td>\n",
              "      <td>-0.003866</td>\n",
              "      <td>NaN</td>\n",
              "      <td>-0.000776</td>\n",
              "      <td>1.000000</td>\n",
              "      <td>-0.004643</td>\n",
              "    </tr>\n",
              "    <tr>\n",
              "      <th>Diverted</th>\n",
              "      <td>NaN</td>\n",
              "      <td>-0.000359</td>\n",
              "      <td>-0.008030</td>\n",
              "      <td>-0.012469</td>\n",
              "      <td>-0.004613</td>\n",
              "      <td>-0.004453</td>\n",
              "      <td>0.017362</td>\n",
              "      <td>NaN</td>\n",
              "      <td>NaN</td>\n",
              "      <td>NaN</td>\n",
              "      <td>0.017638</td>\n",
              "      <td>0.018190</td>\n",
              "      <td>0.003904</td>\n",
              "      <td>-0.001983</td>\n",
              "      <td>-0.004643</td>\n",
              "      <td>1.000000</td>\n",
              "    </tr>\n",
              "  </tbody>\n",
              "</table>\n",
              "</div>"
            ],
            "text/plain": [
              "                   Year     Month  DayofMonth  DayOfWeek   DepTime   ArrTime  \\\n",
              "Year                NaN       NaN         NaN        NaN       NaN       NaN   \n",
              "Month               NaN  1.000000    0.177819   0.049042  0.004809  0.007703   \n",
              "DayofMonth          NaN  0.177819    1.000000  -0.004395 -0.007822 -0.001269   \n",
              "DayOfWeek           NaN  0.049042   -0.004395   1.000000  0.015308  0.014751   \n",
              "DepTime             NaN  0.004809   -0.007822   0.015308  1.000000  0.868545   \n",
              "ArrTime             NaN  0.007703   -0.001269   0.014751  0.868545  1.000000   \n",
              "FlightNum           NaN -0.144629   -0.028473   0.003954  0.005284 -0.006722   \n",
              "ActualElapsedTime   NaN  0.117162    0.019835   0.012862 -0.053730  0.043078   \n",
              "AirTime             NaN  0.106613    0.008580   0.020350 -0.056142  0.034020   \n",
              "ArrDelay            NaN  0.045889   -0.058173  -0.030531  0.199604  0.126469   \n",
              "DepDelay            NaN  0.063908   -0.058212  -0.013786  0.218022  0.139104   \n",
              "Distance            NaN  0.109850    0.017866   0.027737 -0.061195  0.056867   \n",
              "TaxiIn              NaN  0.068020   -0.000509   0.009283 -0.053457  0.007496   \n",
              "TaxiOut             NaN  0.088724    0.099405  -0.062055  0.031561  0.085209   \n",
              "Cancelled           NaN  0.005844   -0.023081  -0.047028  0.004289       NaN   \n",
              "Diverted            NaN -0.000359   -0.008030  -0.012469 -0.004613 -0.004453   \n",
              "\n",
              "                   FlightNum  ActualElapsedTime   AirTime  ArrDelay  DepDelay  \\\n",
              "Year                     NaN                NaN       NaN       NaN       NaN   \n",
              "Month              -0.144629           0.117162  0.106613  0.045889  0.063908   \n",
              "DayofMonth         -0.028473           0.019835  0.008580 -0.058173 -0.058212   \n",
              "DayOfWeek           0.003954           0.012862  0.020350 -0.030531 -0.013786   \n",
              "DepTime             0.005284          -0.053730 -0.056142  0.199604  0.218022   \n",
              "ArrTime            -0.006722           0.043078  0.034020  0.126469  0.139104   \n",
              "FlightNum           1.000000          -0.240650 -0.244212 -0.030760 -0.079826   \n",
              "ActualElapsedTime  -0.240650           1.000000  0.990503  0.081460  0.072029   \n",
              "AirTime            -0.244212           0.990503  1.000000  0.054197  0.075957   \n",
              "ArrDelay           -0.030760           0.081460  0.054197  1.000000  0.911470   \n",
              "DepDelay           -0.079826           0.072029  0.075957  0.911470  1.000000   \n",
              "Distance           -0.247541           0.969355  0.975277  0.025076  0.081125   \n",
              "TaxiIn             -0.062218           0.257506  0.185612  0.125916  0.032882   \n",
              "TaxiOut            -0.019991           0.283326  0.166291  0.178892 -0.024821   \n",
              "Cancelled          -0.005918                NaN       NaN       NaN  0.015482   \n",
              "Diverted            0.017362                NaN       NaN       NaN  0.017638   \n",
              "\n",
              "                   Distance    TaxiIn   TaxiOut  Cancelled  Diverted  \n",
              "Year                    NaN       NaN       NaN        NaN       NaN  \n",
              "Month              0.109850  0.068020  0.088724   0.005844 -0.000359  \n",
              "DayofMonth         0.017866 -0.000509  0.099405  -0.023081 -0.008030  \n",
              "DayOfWeek          0.027737  0.009283 -0.062055  -0.047028 -0.012469  \n",
              "DepTime           -0.061195 -0.053457  0.031561   0.004289 -0.004613  \n",
              "ArrTime            0.056867  0.007496  0.085209        NaN -0.004453  \n",
              "FlightNum         -0.247541 -0.062218 -0.019991  -0.005918  0.017362  \n",
              "ActualElapsedTime  0.969355  0.257506  0.283326        NaN       NaN  \n",
              "AirTime            0.975277  0.185612  0.166291        NaN       NaN  \n",
              "ArrDelay           0.025076  0.125916  0.178892        NaN       NaN  \n",
              "DepDelay           0.081125  0.032882 -0.024821   0.015482  0.017638  \n",
              "Distance           1.000000  0.198693  0.179851  -0.003866  0.018190  \n",
              "TaxiIn             0.198693  1.000000  0.099300        NaN  0.003904  \n",
              "TaxiOut            0.179851  0.099300  1.000000  -0.000776 -0.001983  \n",
              "Cancelled         -0.003866       NaN -0.000776   1.000000 -0.004643  \n",
              "Diverted           0.018190  0.003904 -0.001983  -0.004643  1.000000  "
            ]
          },
          "metadata": {
            "tags": []
          },
          "execution_count": 23
        }
      ]
    },
    {
      "cell_type": "markdown",
      "metadata": {
        "id": "esdfJEo4AnVd"
      },
      "source": [
        "## \"Hands On\" Exercise\n",
        "\n",
        "Look at the Dataset and Dataset Description for the Pittsburgh Bridges data set: https://archive.ics.uci.edu/ml/datasets/Pittsburgh+Bridges\n",
        "\n",
        "Start by reading the “version1” data into a Pandas data frame and applying meaningful names to each of the columns. \n",
        "\n",
        "Next, tackle the following questions / tasks:\n",
        "- What are the possible values for RIVER found in the data?  Are there any unexpected values?  If so, how would you handle these values?\n",
        "- Provide some basic exploratory data analysis (EDA) of the Pittsburgh bridges data. \n",
        "- Once you’ve completed your EDA, identify one or two interesting questions that this data might provide insights about.\n",
        "\n",
        "Here's a pd.read_csv() function call that will load the data set for your from GitHub:"
      ]
    },
    {
      "cell_type": "code",
      "metadata": {
        "id": "WqchEMlxAnVd",
        "outputId": "b17a26ed-ac88-46db-f80b-f7540f9993cf"
      },
      "source": [
        "# load the data set: the shape attribute shows we have 108 rows & 13 columns\n",
        "pb_df = pd.read_csv(\"https://raw.githubusercontent.com/jtopor/AIM-5001/master/Week%206/bridges.data.version1\", header = None)\n",
        "pb_df.shape"
      ],
      "execution_count": null,
      "outputs": [
        {
          "output_type": "execute_result",
          "data": {
            "text/plain": [
              "(108, 13)"
            ]
          },
          "metadata": {
            "tags": []
          },
          "execution_count": 2
        }
      ]
    },
    {
      "cell_type": "code",
      "metadata": {
        "id": "x6s3ZtCGAnVd",
        "outputId": "6c626551-157f-441d-f1be-95bb859d1df8"
      },
      "source": [
        "# sanity check - make sure data was read in as expected\n",
        "pb_df.head()"
      ],
      "execution_count": null,
      "outputs": [
        {
          "output_type": "execute_result",
          "data": {
            "text/html": [
              "<div>\n",
              "<style scoped>\n",
              "    .dataframe tbody tr th:only-of-type {\n",
              "        vertical-align: middle;\n",
              "    }\n",
              "\n",
              "    .dataframe tbody tr th {\n",
              "        vertical-align: top;\n",
              "    }\n",
              "\n",
              "    .dataframe thead th {\n",
              "        text-align: right;\n",
              "    }\n",
              "</style>\n",
              "<table border=\"1\" class=\"dataframe\">\n",
              "  <thead>\n",
              "    <tr style=\"text-align: right;\">\n",
              "      <th></th>\n",
              "      <th>0</th>\n",
              "      <th>1</th>\n",
              "      <th>2</th>\n",
              "      <th>3</th>\n",
              "      <th>4</th>\n",
              "      <th>5</th>\n",
              "      <th>6</th>\n",
              "      <th>7</th>\n",
              "      <th>8</th>\n",
              "      <th>9</th>\n",
              "      <th>10</th>\n",
              "      <th>11</th>\n",
              "      <th>12</th>\n",
              "    </tr>\n",
              "  </thead>\n",
              "  <tbody>\n",
              "    <tr>\n",
              "      <th>0</th>\n",
              "      <td>E1</td>\n",
              "      <td>M</td>\n",
              "      <td>3</td>\n",
              "      <td>1818</td>\n",
              "      <td>HIGHWAY</td>\n",
              "      <td>?</td>\n",
              "      <td>2</td>\n",
              "      <td>N</td>\n",
              "      <td>THROUGH</td>\n",
              "      <td>WOOD</td>\n",
              "      <td>SHORT</td>\n",
              "      <td>S</td>\n",
              "      <td>WOOD</td>\n",
              "    </tr>\n",
              "    <tr>\n",
              "      <th>1</th>\n",
              "      <td>E2</td>\n",
              "      <td>A</td>\n",
              "      <td>25</td>\n",
              "      <td>1819</td>\n",
              "      <td>HIGHWAY</td>\n",
              "      <td>1037</td>\n",
              "      <td>2</td>\n",
              "      <td>N</td>\n",
              "      <td>THROUGH</td>\n",
              "      <td>WOOD</td>\n",
              "      <td>SHORT</td>\n",
              "      <td>S</td>\n",
              "      <td>WOOD</td>\n",
              "    </tr>\n",
              "    <tr>\n",
              "      <th>2</th>\n",
              "      <td>E3</td>\n",
              "      <td>A</td>\n",
              "      <td>39</td>\n",
              "      <td>1829</td>\n",
              "      <td>AQUEDUCT</td>\n",
              "      <td>?</td>\n",
              "      <td>1</td>\n",
              "      <td>N</td>\n",
              "      <td>THROUGH</td>\n",
              "      <td>WOOD</td>\n",
              "      <td>?</td>\n",
              "      <td>S</td>\n",
              "      <td>WOOD</td>\n",
              "    </tr>\n",
              "    <tr>\n",
              "      <th>3</th>\n",
              "      <td>E5</td>\n",
              "      <td>A</td>\n",
              "      <td>29</td>\n",
              "      <td>1837</td>\n",
              "      <td>HIGHWAY</td>\n",
              "      <td>1000</td>\n",
              "      <td>2</td>\n",
              "      <td>N</td>\n",
              "      <td>THROUGH</td>\n",
              "      <td>WOOD</td>\n",
              "      <td>SHORT</td>\n",
              "      <td>S</td>\n",
              "      <td>WOOD</td>\n",
              "    </tr>\n",
              "    <tr>\n",
              "      <th>4</th>\n",
              "      <td>E6</td>\n",
              "      <td>M</td>\n",
              "      <td>23</td>\n",
              "      <td>1838</td>\n",
              "      <td>HIGHWAY</td>\n",
              "      <td>?</td>\n",
              "      <td>2</td>\n",
              "      <td>N</td>\n",
              "      <td>THROUGH</td>\n",
              "      <td>WOOD</td>\n",
              "      <td>?</td>\n",
              "      <td>S</td>\n",
              "      <td>WOOD</td>\n",
              "    </tr>\n",
              "  </tbody>\n",
              "</table>\n",
              "</div>"
            ],
            "text/plain": [
              "   0  1   2     3         4     5  6  7        8     9      10 11    12\n",
              "0  E1  M   3  1818   HIGHWAY     ?  2  N  THROUGH  WOOD  SHORT  S  WOOD\n",
              "1  E2  A  25  1819   HIGHWAY  1037  2  N  THROUGH  WOOD  SHORT  S  WOOD\n",
              "2  E3  A  39  1829  AQUEDUCT     ?  1  N  THROUGH  WOOD      ?  S  WOOD\n",
              "3  E5  A  29  1837   HIGHWAY  1000  2  N  THROUGH  WOOD  SHORT  S  WOOD\n",
              "4  E6  M  23  1838   HIGHWAY     ?  2  N  THROUGH  WOOD      ?  S  WOOD"
            ]
          },
          "metadata": {
            "tags": []
          },
          "execution_count": 25
        }
      ]
    },
    {
      "cell_type": "code",
      "metadata": {
        "id": "Q3caKNVZAnVe"
      },
      "source": [
        "# add meaningful column names\n",
        "pb_df.columns = ['Identif', \n",
        "                'River',\n",
        "                'Location',\n",
        "                'Erected', \n",
        "                'Purpose',\n",
        "                'Length',\n",
        "                'Lanes',\n",
        "                'Clear-G',\n",
        "                'T-OR-D',\n",
        "                'Material',\n",
        "                'Span',\n",
        "                'REL-L',\n",
        "                'Type']"
      ],
      "execution_count": null,
      "outputs": []
    },
    {
      "cell_type": "code",
      "metadata": {
        "id": "5L3t_LGqAnVe",
        "outputId": "81de105f-bba4-4ad5-b1cf-9156f46c777c"
      },
      "source": [
        "# sanity check\n",
        "pb_df.head(10)"
      ],
      "execution_count": null,
      "outputs": [
        {
          "output_type": "execute_result",
          "data": {
            "text/html": [
              "<div>\n",
              "<style scoped>\n",
              "    .dataframe tbody tr th:only-of-type {\n",
              "        vertical-align: middle;\n",
              "    }\n",
              "\n",
              "    .dataframe tbody tr th {\n",
              "        vertical-align: top;\n",
              "    }\n",
              "\n",
              "    .dataframe thead th {\n",
              "        text-align: right;\n",
              "    }\n",
              "</style>\n",
              "<table border=\"1\" class=\"dataframe\">\n",
              "  <thead>\n",
              "    <tr style=\"text-align: right;\">\n",
              "      <th></th>\n",
              "      <th>Identif</th>\n",
              "      <th>River</th>\n",
              "      <th>Location</th>\n",
              "      <th>Erected</th>\n",
              "      <th>Purpose</th>\n",
              "      <th>Length</th>\n",
              "      <th>Lanes</th>\n",
              "      <th>Clear-G</th>\n",
              "      <th>T-OR-D</th>\n",
              "      <th>Material</th>\n",
              "      <th>Span</th>\n",
              "      <th>REL-L</th>\n",
              "      <th>Type</th>\n",
              "    </tr>\n",
              "  </thead>\n",
              "  <tbody>\n",
              "    <tr>\n",
              "      <th>0</th>\n",
              "      <td>E1</td>\n",
              "      <td>M</td>\n",
              "      <td>3</td>\n",
              "      <td>1818</td>\n",
              "      <td>HIGHWAY</td>\n",
              "      <td>?</td>\n",
              "      <td>2</td>\n",
              "      <td>N</td>\n",
              "      <td>THROUGH</td>\n",
              "      <td>WOOD</td>\n",
              "      <td>SHORT</td>\n",
              "      <td>S</td>\n",
              "      <td>WOOD</td>\n",
              "    </tr>\n",
              "    <tr>\n",
              "      <th>1</th>\n",
              "      <td>E2</td>\n",
              "      <td>A</td>\n",
              "      <td>25</td>\n",
              "      <td>1819</td>\n",
              "      <td>HIGHWAY</td>\n",
              "      <td>1037</td>\n",
              "      <td>2</td>\n",
              "      <td>N</td>\n",
              "      <td>THROUGH</td>\n",
              "      <td>WOOD</td>\n",
              "      <td>SHORT</td>\n",
              "      <td>S</td>\n",
              "      <td>WOOD</td>\n",
              "    </tr>\n",
              "    <tr>\n",
              "      <th>2</th>\n",
              "      <td>E3</td>\n",
              "      <td>A</td>\n",
              "      <td>39</td>\n",
              "      <td>1829</td>\n",
              "      <td>AQUEDUCT</td>\n",
              "      <td>?</td>\n",
              "      <td>1</td>\n",
              "      <td>N</td>\n",
              "      <td>THROUGH</td>\n",
              "      <td>WOOD</td>\n",
              "      <td>?</td>\n",
              "      <td>S</td>\n",
              "      <td>WOOD</td>\n",
              "    </tr>\n",
              "    <tr>\n",
              "      <th>3</th>\n",
              "      <td>E5</td>\n",
              "      <td>A</td>\n",
              "      <td>29</td>\n",
              "      <td>1837</td>\n",
              "      <td>HIGHWAY</td>\n",
              "      <td>1000</td>\n",
              "      <td>2</td>\n",
              "      <td>N</td>\n",
              "      <td>THROUGH</td>\n",
              "      <td>WOOD</td>\n",
              "      <td>SHORT</td>\n",
              "      <td>S</td>\n",
              "      <td>WOOD</td>\n",
              "    </tr>\n",
              "    <tr>\n",
              "      <th>4</th>\n",
              "      <td>E6</td>\n",
              "      <td>M</td>\n",
              "      <td>23</td>\n",
              "      <td>1838</td>\n",
              "      <td>HIGHWAY</td>\n",
              "      <td>?</td>\n",
              "      <td>2</td>\n",
              "      <td>N</td>\n",
              "      <td>THROUGH</td>\n",
              "      <td>WOOD</td>\n",
              "      <td>?</td>\n",
              "      <td>S</td>\n",
              "      <td>WOOD</td>\n",
              "    </tr>\n",
              "    <tr>\n",
              "      <th>5</th>\n",
              "      <td>E7</td>\n",
              "      <td>A</td>\n",
              "      <td>27</td>\n",
              "      <td>1840</td>\n",
              "      <td>HIGHWAY</td>\n",
              "      <td>990</td>\n",
              "      <td>2</td>\n",
              "      <td>N</td>\n",
              "      <td>THROUGH</td>\n",
              "      <td>WOOD</td>\n",
              "      <td>MEDIUM</td>\n",
              "      <td>S</td>\n",
              "      <td>WOOD</td>\n",
              "    </tr>\n",
              "    <tr>\n",
              "      <th>6</th>\n",
              "      <td>E8</td>\n",
              "      <td>A</td>\n",
              "      <td>28</td>\n",
              "      <td>1844</td>\n",
              "      <td>AQUEDUCT</td>\n",
              "      <td>1000</td>\n",
              "      <td>1</td>\n",
              "      <td>N</td>\n",
              "      <td>THROUGH</td>\n",
              "      <td>IRON</td>\n",
              "      <td>SHORT</td>\n",
              "      <td>S</td>\n",
              "      <td>SUSPEN</td>\n",
              "    </tr>\n",
              "    <tr>\n",
              "      <th>7</th>\n",
              "      <td>E9</td>\n",
              "      <td>M</td>\n",
              "      <td>3</td>\n",
              "      <td>1846</td>\n",
              "      <td>HIGHWAY</td>\n",
              "      <td>1500</td>\n",
              "      <td>2</td>\n",
              "      <td>N</td>\n",
              "      <td>THROUGH</td>\n",
              "      <td>IRON</td>\n",
              "      <td>SHORT</td>\n",
              "      <td>S</td>\n",
              "      <td>SUSPEN</td>\n",
              "    </tr>\n",
              "    <tr>\n",
              "      <th>8</th>\n",
              "      <td>E10</td>\n",
              "      <td>A</td>\n",
              "      <td>39</td>\n",
              "      <td>1848</td>\n",
              "      <td>AQUEDUCT</td>\n",
              "      <td>?</td>\n",
              "      <td>1</td>\n",
              "      <td>N</td>\n",
              "      <td>DECK</td>\n",
              "      <td>WOOD</td>\n",
              "      <td>?</td>\n",
              "      <td>S</td>\n",
              "      <td>WOOD</td>\n",
              "    </tr>\n",
              "    <tr>\n",
              "      <th>9</th>\n",
              "      <td>E11</td>\n",
              "      <td>A</td>\n",
              "      <td>29</td>\n",
              "      <td>1851</td>\n",
              "      <td>HIGHWAY</td>\n",
              "      <td>1000</td>\n",
              "      <td>2</td>\n",
              "      <td>N</td>\n",
              "      <td>THROUGH</td>\n",
              "      <td>WOOD</td>\n",
              "      <td>MEDIUM</td>\n",
              "      <td>S</td>\n",
              "      <td>WOOD</td>\n",
              "    </tr>\n",
              "  </tbody>\n",
              "</table>\n",
              "</div>"
            ],
            "text/plain": [
              "  Identif River Location  Erected   Purpose Length Lanes Clear-G   T-OR-D  \\\n",
              "0      E1     M        3     1818   HIGHWAY      ?     2       N  THROUGH   \n",
              "1      E2     A       25     1819   HIGHWAY   1037     2       N  THROUGH   \n",
              "2      E3     A       39     1829  AQUEDUCT      ?     1       N  THROUGH   \n",
              "3      E5     A       29     1837   HIGHWAY   1000     2       N  THROUGH   \n",
              "4      E6     M       23     1838   HIGHWAY      ?     2       N  THROUGH   \n",
              "5      E7     A       27     1840   HIGHWAY    990     2       N  THROUGH   \n",
              "6      E8     A       28     1844  AQUEDUCT   1000     1       N  THROUGH   \n",
              "7      E9     M        3     1846   HIGHWAY   1500     2       N  THROUGH   \n",
              "8     E10     A       39     1848  AQUEDUCT      ?     1       N     DECK   \n",
              "9     E11     A       29     1851   HIGHWAY   1000     2       N  THROUGH   \n",
              "\n",
              "  Material    Span REL-L    Type  \n",
              "0     WOOD   SHORT     S    WOOD  \n",
              "1     WOOD   SHORT     S    WOOD  \n",
              "2     WOOD       ?     S    WOOD  \n",
              "3     WOOD   SHORT     S    WOOD  \n",
              "4     WOOD       ?     S    WOOD  \n",
              "5     WOOD  MEDIUM     S    WOOD  \n",
              "6     IRON   SHORT     S  SUSPEN  \n",
              "7     IRON   SHORT     S  SUSPEN  \n",
              "8     WOOD       ?     S    WOOD  \n",
              "9     WOOD  MEDIUM     S    WOOD  "
            ]
          },
          "metadata": {
            "tags": []
          },
          "execution_count": 29
        }
      ]
    },
    {
      "cell_type": "markdown",
      "metadata": {
        "id": "jJPKln6DAnVe"
      },
      "source": [
        "#### What are the possible values for the \"River\" attribute?"
      ]
    },
    {
      "cell_type": "code",
      "metadata": {
        "id": "2NMQX6lFAnVf"
      },
      "source": [
        "# display unique values of 'River'"
      ],
      "execution_count": null,
      "outputs": []
    },
    {
      "cell_type": "code",
      "metadata": {
        "id": "-aCImas9AnVf",
        "outputId": "5662c4d9-36c8-4fc0-dbf1-7ec41d69948d"
      },
      "source": [
        "pb_df.River.unique()"
      ],
      "execution_count": null,
      "outputs": [
        {
          "output_type": "execute_result",
          "data": {
            "text/plain": [
              "array(['M', 'A', 'O', 'Y'], dtype=object)"
            ]
          },
          "metadata": {
            "tags": []
          },
          "execution_count": 30
        }
      ]
    },
    {
      "cell_type": "markdown",
      "metadata": {
        "id": "yuVgB-p-AnVf"
      },
      "source": [
        "The results show us that there are 4 unique values within the 'River' attribute. However, the data dictionary only lists 3 ('A' = Allegheny; 'M' = Monongahela; 'O' = Ohio). What to do?\n",
        "\n",
        "Should we:\n",
        "1. Delete the rows containing a 'Y'?\n",
        "2. Delete the column in its entirety?\n",
        "3. Replace the 'Y' values with the most common of the three values listed in the data dictionary?\n",
        "4. Other approaches? \n",
        "\n",
        "How would our analysis potentially be impacted if we implemented any of suggestions 1 through 3?"
      ]
    },
    {
      "cell_type": "markdown",
      "metadata": {
        "id": "jDA-xcSfAnVf"
      },
      "source": [
        "One possible alternative: use __domain knowledge__ to solve the dilemma. Use of 'Domain knowledge' would require that you do some independent research to determine whether or not the value of 'Y' might in fact be valid, but for some reason was not explained in the data dictionary.\n",
        "\n",
        "In this case, 'Y' is, in fact, a plausible value for the 'River' attribute: The Youghiogheny River flows into the Monongahela River. You could discover this on your own via a bit of research (a.k.a., developing your domain knowledge).\n"
      ]
    },
    {
      "cell_type": "markdown",
      "metadata": {
        "id": "S_lMyjEPAnVf"
      },
      "source": [
        "### Now complete your EDA and formulate one or two interesting questions which this data could potentially help answer.\n",
        "\n",
        "Here are some examples of the types of analysis you would want to be sure to include as part of an EDA for the Pittsburgh Bridges data set:"
      ]
    },
    {
      "cell_type": "code",
      "metadata": {
        "id": "2dE2O2VCAnVg",
        "outputId": "2dbcff10-6b4f-4ada-8dbb-6ee8ad6fb440"
      },
      "source": [
        "# get the value counts for the Purpose variable: Most bridges appear to have been built for use\n",
        "# highways\n",
        "pb_df['Purpose'].value_counts()"
      ],
      "execution_count": null,
      "outputs": [
        {
          "output_type": "execute_result",
          "data": {
            "text/plain": [
              "HIGHWAY     71\n",
              "RR          32\n",
              "AQUEDUCT     4\n",
              "WALK         1\n",
              "Name: Purpose, dtype: int64"
            ]
          },
          "metadata": {
            "tags": []
          },
          "execution_count": 31
        }
      ]
    },
    {
      "cell_type": "code",
      "metadata": {
        "id": "2MJIxi3MAnVg",
        "outputId": "9fcdb33f-e729-4a13-fd9f-d9f22216d55e"
      },
      "source": [
        "# create a bar plot of the Purpose variable's value counts\n",
        "bplt2 = pb_df['Purpose'].value_counts().plot.bar(title = \"Freq Dist of Purpose\")\n",
        "bplt2;"
      ],
      "execution_count": null,
      "outputs": [
        {
          "output_type": "display_data",
          "data": {
            "image/png": "[encoded data removed]",
            "text/plain": [
              "<Figure size 432x288 with 1 Axes>"
            ]
          },
          "metadata": {
            "tags": [],
            "needs_background": "light"
          }
        }
      ]
    },
    {
      "cell_type": "code",
      "metadata": {
        "id": "fsMEjaZGAnVg",
        "outputId": "539db629-76a9-41ae-c654-8389fe654da8"
      },
      "source": [
        "# plot a histogram of the Erected variable to get a sense of what time period had the \n",
        "# most bridge construction activity: it appears that the late 1800's had the greatest amount of \n",
        "# activity\n",
        "pb_df['Erected'].hist()"
      ],
      "execution_count": null,
      "outputs": [
        {
          "output_type": "execute_result",
          "data": {
            "text/plain": [
              "<matplotlib.axes._subplots.AxesSubplot at 0x1ce71ccdeb8>"
            ]
          },
          "metadata": {
            "tags": []
          },
          "execution_count": 33
        },
        {
          "output_type": "display_data",
          "data": {
            "image/png": "[encoded data removed]",
            "text/plain": [
              "<Figure size 432x288 with 1 Axes>"
            ]
          },
          "metadata": {
            "tags": [],
            "needs_background": "light"
          }
        }
      ]
    },
    {
      "cell_type": "code",
      "metadata": {
        "id": "ntTiKwAOAnVg",
        "outputId": "a255fb25-e53e-40c7-9c9b-83fd16441b0e"
      },
      "source": [
        "# get the value counts for the River variable: Most appear to span the Allegheny river\n",
        "pb_df['River'].value_counts()"
      ],
      "execution_count": null,
      "outputs": [
        {
          "output_type": "execute_result",
          "data": {
            "text/plain": [
              "A    49\n",
              "M    41\n",
              "O    15\n",
              "Y     3\n",
              "Name: River, dtype: int64"
            ]
          },
          "metadata": {
            "tags": []
          },
          "execution_count": 34
        }
      ]
    },
    {
      "cell_type": "code",
      "metadata": {
        "id": "PGqg4BKuAnVh",
        "outputId": "85022433-c884-4696-e243-24da87114915"
      },
      "source": [
        "# create a bar plot of the Purpose variable's value counts\n",
        "bplt3 = pb_df['River'].value_counts().plot.bar(title = \"Freq Dist of River Indicator\")\n",
        "bplt3;"
      ],
      "execution_count": null,
      "outputs": [
        {
          "output_type": "display_data",
          "data": {
            "image/png": "[encoded data removed]",
            "text/plain": [
              "<Figure size 432x288 with 1 Axes>"
            ]
          },
          "metadata": {
            "tags": [],
            "needs_background": "light"
          }
        }
      ]
    },
    {
      "cell_type": "code",
      "metadata": {
        "id": "ZtgFUBshAnVh",
        "outputId": "d8fe14cc-7750-4344-f0d9-685eeb2c9697"
      },
      "source": [
        "# get the value counts for the Material variable: Most bridges in the data set are made of steel\n",
        "pb_df['Material'].value_counts()"
      ],
      "execution_count": null,
      "outputs": [
        {
          "output_type": "execute_result",
          "data": {
            "text/plain": [
              "STEEL    79\n",
              "WOOD     16\n",
              "IRON     11\n",
              "?         2\n",
              "Name: Material, dtype: int64"
            ]
          },
          "metadata": {
            "tags": []
          },
          "execution_count": 36
        }
      ]
    },
    {
      "cell_type": "code",
      "metadata": {
        "id": "EABuILSKAnVh",
        "outputId": "52b4a5b1-a410-4466-e633-30c8f735c7af"
      },
      "source": [
        "# create a bar plot of the Purpose variable's value counts\n",
        "bplt4 = pb_df['Material'].value_counts().plot.bar(title = \"Freq Dist of Material Indicator\")\n",
        "bplt4;"
      ],
      "execution_count": null,
      "outputs": [
        {
          "output_type": "display_data",
          "data": {
            "image/png": "[encoded data removed]",
            "text/plain": [
              "<Figure size 432x288 with 1 Axes>"
            ]
          },
          "metadata": {
            "tags": [],
            "needs_background": "light"
          }
        }
      ]
    },
    {
      "cell_type": "code",
      "metadata": {
        "id": "CQr0-K_tAnVh"
      },
      "source": [
        "# For the Length variable we need to replace the '?' with NaN before doing any computations:\n",
        "pb_df[\"Length\"].replace({'?':np.nan}, inplace = True)\n"
      ],
      "execution_count": null,
      "outputs": []
    },
    {
      "cell_type": "code",
      "metadata": {
        "id": "pxffOns9AnVh",
        "outputId": "c408e24c-ca1d-4e3f-c845-611476a8d8e2"
      },
      "source": [
        "# check the data type of the Length variable: it is not numeric so we will need to convert it\n",
        "pb_df[\"Length\"].dtype"
      ],
      "execution_count": null,
      "outputs": [
        {
          "output_type": "execute_result",
          "data": {
            "text/plain": [
              "dtype('O')"
            ]
          },
          "metadata": {
            "tags": []
          },
          "execution_count": 39
        }
      ]
    },
    {
      "cell_type": "code",
      "metadata": {
        "id": "1bQEUp-pAnVi"
      },
      "source": [
        "# convert the data type of the Length column to numeric\n",
        "pb_df[\"Length\"] = pd.to_numeric(pb_df[\"Length\"])"
      ],
      "execution_count": null,
      "outputs": []
    },
    {
      "cell_type": "code",
      "metadata": {
        "id": "alhrhuLbAnVi",
        "outputId": "05ba8393-849d-4f8a-b884-dc67a41a1813"
      },
      "source": [
        "# now create a histogram of Length: it appears that a large percentage of bridges have a span of\n",
        "# less than 1250 feet\n",
        "pb_df[\"Length\"].hist()"
      ],
      "execution_count": null,
      "outputs": [
        {
          "output_type": "execute_result",
          "data": {
            "text/plain": [
              "<matplotlib.axes._subplots.AxesSubplot at 0x1ce7169e4a8>"
            ]
          },
          "metadata": {
            "tags": []
          },
          "execution_count": 41
        },
        {
          "output_type": "display_data",
          "data": {
            "image/png": "[encoded data removed]",
            "text/plain": [
              "<Figure size 432x288 with 1 Axes>"
            ]
          },
          "metadata": {
            "tags": [],
            "needs_background": "light"
          }
        }
      ]
    },
    {
      "cell_type": "code",
      "metadata": {
        "id": "YNg-wG3kAnVi",
        "outputId": "b8feb2ea-9fc2-48b2-890d-2ffe99cfa491"
      },
      "source": [
        "# lets calculate how many bridges have a span of less than 1250 feet: a total of \n",
        "pd.value_counts(pb_df['Length'] < 1250)"
      ],
      "execution_count": null,
      "outputs": [
        {
          "output_type": "execute_result",
          "data": {
            "text/plain": [
              "False    68\n",
              "True     40\n",
              "Name: Length, dtype: int64"
            ]
          },
          "metadata": {
            "tags": []
          },
          "execution_count": 42
        }
      ]
    },
    {
      "cell_type": "code",
      "metadata": {
        "id": "y33YmdjcAnVi",
        "outputId": "9d4a711c-5937-45e3-8290-2f190e6e2734"
      },
      "source": [
        "# now calculate the overall percentage of bridges having a length of less than 1250 feet:\n",
        "# Approximate 37% of the bridges in the data set (40/108) have a length of less than 1250 feet\n",
        "pd.value_counts(pb_df['Length'] < 1250)[1] / pb_df.shape[0]"
      ],
      "execution_count": null,
      "outputs": [
        {
          "output_type": "execute_result",
          "data": {
            "text/plain": [
              "0.37037037037037035"
            ]
          },
          "metadata": {
            "tags": []
          },
          "execution_count": 43
        }
      ]
    },
    {
      "cell_type": "code",
      "metadata": {
        "id": "DH6gVrfrAnVi",
        "outputId": "4afe1d62-3f0f-48ae-a0e2-cb4dda28ee9e"
      },
      "source": [
        "# get summary statistics for Length: the average bridge length is 1567feet; \n",
        "# the shortest bridge is 804 feet and the longest is 4558 feet, which is approx. 8/10 of a mile\n",
        "pb_df[\"Length\"].describe()"
      ],
      "execution_count": null,
      "outputs": [
        {
          "output_type": "execute_result",
          "data": {
            "text/plain": [
              "count      81.000000\n",
              "mean     1567.469136\n",
              "std       747.491523\n",
              "min       804.000000\n",
              "25%      1000.000000\n",
              "50%      1300.000000\n",
              "75%      2000.000000\n",
              "max      4558.000000\n",
              "Name: Length, dtype: float64"
            ]
          },
          "metadata": {
            "tags": []
          },
          "execution_count": 44
        }
      ]
    },
    {
      "cell_type": "code",
      "metadata": {
        "id": "VlN8vzI7AnVj"
      },
      "source": [
        ""
      ],
      "execution_count": null,
      "outputs": []
    }
  ]
}