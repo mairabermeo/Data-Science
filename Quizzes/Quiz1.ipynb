{
 "cells": [
  {
   "cell_type": "markdown",
   "id": "d56dd58f-c127-40b9-83fe-c4e424a40280",
   "metadata": {},
   "source": [
    "# Quiz 1\n",
    "\n",
    "> Name: Maira Bermeo  \n",
    "> EMPL ID: 24175075  \n",
    "\n",
    "## Data Summary:\n",
    "\n",
    "#### Use Cases: \n",
    "\n",
    "There are 53,940 total entries, with each representing an individual diamond. The dataset can be used for applications such as price prediction, quality classification, and correlation analysis.\n",
    "\n",
    "#### Attributes per Use Case\n",
    "\n",
    "Each diamond record includes the following 10 attributes:\n",
    "\n",
    "* price (int): Price in US dollars, ranging from 326 to 18,823. \n",
    "* carat (float): Weight of the diamond, ranging from 0.2 to 5.01.\n",
    "* cut (ordinal categorical variable): Quality of the cut with categories Fair, Good, Very Good, Premium, and Ideal. \n",
    "* color (ordinal categorical variable): Color grade from D (best) to J (worst).\n",
    "* clarity ordinal categorical variable): Clarity grade from I1 (worst) to IF (best). \n",
    "* x (float: Length of the diamond in millimeters, ranging from 0 to 10.74. \n",
    "* y(float): Width of the diamond in millimeters, ranging from 0 to 58.9. D\n",
    "* z(float): Depth of the diamond in millimeters, ranging from 0 to 31.8. \n",
    "* depth (float): Total depth percentage calculated as z divided by the mean of x and y. Values range from 43 to 79.  \n",
    "* table (float): Width of the top of the diamond relative to the widest point, with values ranging from 43 to 95.  \n"
   ]
  },
  {
   "cell_type": "code",
   "execution_count": null,
   "id": "5861e986-538c-4741-9353-b7a9dab840a9",
   "metadata": {},
   "outputs": [],
   "source": []
  },
  {
   "cell_type": "code",
   "execution_count": null,
   "id": "2b3817df-2692-4eeb-b0d4-305f66f1e5b9",
   "metadata": {},
   "outputs": [],
   "source": []
  },
  {
   "cell_type": "code",
   "execution_count": null,
   "id": "314fb5c4-c250-44b2-b758-ab3d8776933b",
   "metadata": {},
   "outputs": [],
   "source": []
  },
  {
   "cell_type": "code",
   "execution_count": null,
   "id": "22457b2c-b5a8-4bfb-ac34-7dc7c1084dba",
   "metadata": {},
   "outputs": [],
   "source": []
  },
  {
   "cell_type": "code",
   "execution_count": null,
   "id": "8348a071-079b-4d8e-b2cc-4d755d2d2298",
   "metadata": {},
   "outputs": [],
   "source": []
  },
  {
   "cell_type": "code",
   "execution_count": null,
   "id": "13aa9bb7-3712-4c36-8452-ab1fcfb5f4b4",
   "metadata": {},
   "outputs": [],
   "source": []
  },
  {
   "cell_type": "code",
   "execution_count": null,
   "id": "ca1fc077-f7e0-4bb1-97d0-cc78866aba72",
   "metadata": {},
   "outputs": [],
   "source": []
  },
  {
   "cell_type": "code",
   "execution_count": null,
   "id": "2cec290b-cb31-470e-87fb-0d7101acaa84",
   "metadata": {},
   "outputs": [],
   "source": []
  },
  {
   "cell_type": "code",
   "execution_count": null,
   "id": "ee438456-04bf-4758-b209-2add38b15d63",
   "metadata": {},
   "outputs": [],
   "source": []
  },
  {
   "cell_type": "code",
   "execution_count": null,
   "id": "f7dadaee-f65a-413d-9523-2a4d2aedcd50",
   "metadata": {},
   "outputs": [],
   "source": []
  },
  {
   "cell_type": "code",
   "execution_count": null,
   "id": "3d66ae88-3d14-4c41-a404-214d8b9b26f2",
   "metadata": {},
   "outputs": [],
   "source": []
  },
  {
   "cell_type": "code",
   "execution_count": null,
   "id": "b3d94e8f-5773-4da3-975e-300911fbd1ae",
   "metadata": {},
   "outputs": [],
   "source": []
  },
  {
   "cell_type": "code",
   "execution_count": null,
   "id": "48664189-6b1a-4f26-b4b2-ab4f183655b1",
   "metadata": {},
   "outputs": [],
   "source": []
  },
  {
   "cell_type": "code",
   "execution_count": null,
   "id": "384db89d-819e-48a8-8783-d93e408db1ad",
   "metadata": {},
   "outputs": [],
   "source": []
  },
  {
   "cell_type": "code",
   "execution_count": null,
   "id": "36a95a9c-2de6-435d-a4e1-b342dcb03d8f",
   "metadata": {},
   "outputs": [],
   "source": []
  },
  {
   "cell_type": "code",
   "execution_count": null,
   "id": "98f58602-e58d-40a5-9f11-af06efc8de7e",
   "metadata": {},
   "outputs": [],
   "source": []
  }
 ],
 "metadata": {
  "kernelspec": {
   "display_name": "Python [conda env:base] *",
   "language": "python",
   "name": "conda-base-py"
  },
  "language_info": {
   "codemirror_mode": {
    "name": "ipython",
    "version": 3
   },
   "file_extension": ".py",
   "mimetype": "text/x-python",
   "name": "python",
   "nbconvert_exporter": "python",
   "pygments_lexer": "ipython3",
   "version": "3.12.7"
  }
 },
 "nbformat": 4,
 "nbformat_minor": 5
}
