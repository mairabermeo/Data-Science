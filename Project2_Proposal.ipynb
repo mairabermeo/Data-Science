{
  "nbformat": 4,
  "nbformat_minor": 0,
  "metadata": {
    "colab": {
      "provenance": [],
      "include_colab_link": true
    },
    "kernelspec": {
      "name": "python3",
      "display_name": "Python 3"
    },
    "language_info": {
      "name": "python"
    }
  },
  "cells": [
    {
      "cell_type": "markdown",
      "metadata": {
        "id": "view-in-github",
        "colab_type": "text"
      },
      "source": [
        "<a href=\"https://colab.research.google.com/github/mairabermeo/Data-Science/blob/master/Project2_Proposal.ipynb\" target=\"_parent\"><img src=\"https://colab.research.google.com/assets/colab-badge.svg\" alt=\"Open In Colab\"/></a>"
      ]
    },
    {
      "cell_type": "markdown",
      "source": [
        "# **Investigating the Relationship Between Sleep Patterns and Academic Performance Among First-Year College Students**"
      ],
      "metadata": {
        "id": "3F0YpMccb2VH"
      }
    },
    {
      "cell_type": "markdown",
      "source": [
        "## **Abstract**\n",
        "\n",
        "This project explores how lifestyle behaviors, specifically sleep patterns, may influence academic performance among college students. Poor sleep habits are common in university settings and have been linked to reduced cognitive function, yet their direct relationship to academic outcomes remains underexamined in real-world data. This study seeks to identify whether variations in sleep consistency, duration, and timing are associated with changes in students’ academic achievement.\n",
        "\n",
        "To investigate this, we conducted a data-driven analysis using a combination of statistical and machine learning models. Our approach includes exploratory data analysis, feature transformation, and the application of several predictive techniques to identify patterns and relationships in the data. By comparing multiple modeling strategies, we assess both linear and non-linear effects, as well as the potential influence of individual characteristics.\n",
        "\n",
        "The analysis reveals that certain sleep behaviors show a measurable relationship with academic outcomes. These findings highlight the role that sleep habits may play in academic success and offer insights that can inform future support strategies for student well-being and performance."
      ],
      "metadata": {
        "id": "w6hHDj2gb0Vh"
      }
    },
    {
      "cell_type": "markdown",
      "source": [
        "## **Introduction**\n",
        "\n",
        "Academic performance during the first year of college is an important predictor of student retention, graduation, and long-term success. While universities invest heavily in academic support programs such as tutoring, advising, and orientation, personal habits like sleep often receive less attention. Many college students experience irregular sleep schedules, short sleep durations, and late bedtimes. Research has shown that sleep quality and consistency affect memory, focus, and overall cognitive functioning. Understanding how sleep behaviors influence academic outcomes could help improve student success and well-being.\n",
        "\n",
        "This project investigates the relationship between sleep habits and GPA among first-year college students. We use data from the CMU Sleep Study, which includes information from 634 students across Carnegie Mellon University, the University of Washington, and the University of Notre Dame. Each student wore a Fitbit for one month, which recorded their sleep patterns, including total sleep time, bedtime variability, and daytime naps. The dataset also includes demographic information (such as gender, race, and first-generation college status), as well as academic data (cumulative and term GPA).\n",
        "\n",
        "Our primary research questions focus on whether longer or more consistent sleep is associated with higher GPA, whether daytime sleep has a positive or negative impact on academic performance, and how demographic factors influence these relationships. To answer these questions, we apply multiple modeling techniques, including linear regression, K-nearest neighbors, Huber regression, quantile regression, random forest, and gradient boosting. This combination of traditional and machine learning models allows us to evaluate both explanatory and predictive aspects of the data, fulfilling the project’s analytical and technical requirements."
      ],
      "metadata": {
        "id": "I78wjIXjuIiI"
      }
    },
    {
      "cell_type": "markdown",
      "source": [
        "## **Research Questions**\n",
        "Research Question 1:\n",
        "\n",
        "To what extent are total sleep time and bedtime consistency associated with term GPA in first-year college students?\n",
        "\n",
        "Research Question 2:\n",
        "\n",
        "Is there a relationship between daytime sleep and GPA, and does this relationship change depending on other sleep habits?\n",
        "\n",
        "Understanding these relationships can help schools promote better academic outcomes through simple behavioral changes. If students who sleep more or go to bed at regular times tend to perform better, schools can include sleep education in first-year programs. These might take the form of workshops, health campaigns, or academic coaching that includes advice on sleep routines.\n",
        "\n",
        "If daytime sleep is shown to negatively affect GPA, students could be encouraged to adjust their schedules to limit naps and prioritize nighttime sleep. By learning how small changes in daily habits affect academic performance, students may be better prepared to succeed in college. Schools can support this by giving students the tools and information to improve their routines in realistic and effective ways.\n"
      ],
      "metadata": {
        "id": "VZx6Hq8buRhq"
      }
    },
    {
      "cell_type": "markdown",
      "source": [
        "## **Data to be Used**\n",
        "\n",
        "The dataset used in this project comes from the Carnegie Mellon University Statistics Data Repository. It is publicly available and can be accessed at the following link:\n",
        "\n",
        "**[CMU Sleep Study Dataset](https://cmustatistics.github.io/data-repository/psychology/cmu-sleep.html)**\n",
        "\n",
        "The dataset contains information from 634 first-year college students enrolled at three institutions: Carnegie Mellon University, the University of Washington, and the University of Notre Dame. Data were collected during the spring term of each student’s first year. Each participant wore a Fitbit device for approximately one month. These devices recorded sleep-related data, including total sleep time, bedtime variability, sleep midpoint, and daytime sleep. Researchers identified and classified sleep episodes using Fitbit tracking data. In addition to sleep data, the dataset includes academic records such as cumulative GPA (from prior terms), term GPA (from the spring term), and course load information. Demographic variables are also provided, including gender, race (categorized as underrepresented or not), and first-generation college student status.\n",
        "\n",
        "The dataset is provided as a downloadable CSV file and does not require any web scraping or API access. It will be loaded directly into a Google Colab notebook using Python’s pandas library from Github. All cleaning, transformation, and analysis will be conducted within that environment using standard Python tools. This structured dataset provides all the necessary information for answering the project’s research questions without requiring additional data collection.\n",
        "\n"
      ],
      "metadata": {
        "id": "Y4yTzkpouSyH"
      }
    },
    {
      "cell_type": "markdown",
      "source": [
        "## **Approach**\n",
        "**Research Approach**\n",
        "\n",
        "We will begin by importing the dataset using the pandas library and inspecting its structure with functions like .head(), .info(), and .describe(). Any columns that contain numeric values but are stored as object types will be converted to numeric using pd.to_numeric() to ensure proper analysis. Categorical variables such as gender, race, and first-generation status will be encoded numerically to prepare them for regression models. We will address missing values either by imputing them or removing affected rows, depending on the extent of the issue. If required, we will also normalize or standardize continuous variables like sleep metrics to ensure consistent interpretation across modeling techniques. The cleaned and prepared dataset will then be stored in a separate DataFrame for further use.\n",
        "\n",
        "\n",
        "**Exploratory Data Analysis (EDA)**\n",
        "\n",
        "We will conduct exploratory analysis by computing summary statistics and using visual tools to understand the data. We will generate a correlation heatmap using seaborn.heatmap() to visualize the relationships between sleep metrics and GPA. We will also create scatterplots to examine how TotalSleepTime and midpoint_sleep relate to term_gpa. To assess the distribution of academic performance, we will plot a histogram or kernel density estimate of the GPA. Additionally, we will use boxplots and violin plots to explore GPA variation across demographic groups such as gender or first-generation status. All of these plots will be coded in Python using matplotlib and seaborn.\n",
        "\n",
        "\n",
        "**Data Preparation**\n",
        "\n",
        "During data preparation, we will apply code to clean and transform variables identified as problematic during EDA. We will handle outliers, standardize variables when necessary, and implement feature engineering techniques such as creating interaction terms between sleep behaviors and demographic variables. Continuous variables needed for distance-based models will be scaled appropriately. At the end of this stage, we will organize the final cleaned dataset into a new DataFrame, which will be used for modeling.\n",
        "\n",
        "\n",
        "**Prepped Data Review**\n",
        "\n",
        "After completing data preparation, we will re-run key visualizations on the cleaned data. This includes generating updated scatterplots, histograms, and correlation matrices to confirm the data integrity and consistency of patterns. We will also re-check for missing values and confirm that all variables are in the correct format for analysis. This step helps ensure the data is ready for model fitting.\n",
        "\n",
        "\n",
        "**Investigative Analysis and Results**\n",
        "\n",
        "We will build and evaluate a variety of regression models to answer our research questions. These models include Linear Regression, K-Nearest Neighbors Regressor, Huber Regressor, Quantile Regression, Random Forest Regressor, and Gradient Boosting Regressor. Each model will be trained on the prepared data. To assess model performance, we will compute metrics such as Root Mean Squared Error (RMSE), and Mean Absolute Error (MAE).For the Quantile Regressor, we will use Pinball Loss. For ensemble models like Random Forest and Gradient Boosting, we will generate feature importance plots to interpret which sleep or demographic variables most strongly predict GPA.\n",
        "\n"
      ],
      "metadata": {
        "id": "HBdf51mRuYFu"
      }
    },
    {
      "cell_type": "markdown",
      "source": [
        "### **Team Roles and Responsibilities**\n",
        "\n",
        "#### **Maira**\n",
        "\n",
        "* **Abstract**\n",
        "\n",
        "  * Write a concise summary of the problem, approach, and key outcomes of the project.\n",
        "\n",
        "* **Introduction**\n",
        "\n",
        "  * Explain the purpose and motivation behind the project.\n",
        "  * Describe the research question and why it was chosen.\n",
        "  * Provide background on the dataset and justify its use.\n",
        "\n",
        "* **Research Approach**\n",
        "\n",
        "  * Outline the overall strategy used for data handling and analysis.\n",
        "  * Explain the workflow from exploration to modeling, including data management practices.\n",
        "\n",
        "* **Exploratory Data Analysis (EDA)**\n",
        "\n",
        "  * Analyze the raw dataset to uncover patterns and insights.\n",
        "  * Identify potential data issues or trends.\n",
        "  * Visualize key features and distributions using Python.\n",
        "  * Summarize early findings that will shape the direction of the analysis.\n",
        "\n",
        "* **Data Preparation**\n",
        "\n",
        "  * Clean the dataset by handling missing values, duplicates, or inconsistencies.\n",
        "  * Perform feature engineering to enhance the dataset for modeling.\n",
        "  * Ensure the dataset is ready for analysis and modeling.\n",
        "\n",
        "* **Prepped Data Review**\n",
        "\n",
        "  * Re-run EDA on the cleaned dataset.\n",
        "  * Validate that the data is in good shape for statistical modeling.\n",
        "\n",
        "#### **Jannat**\n",
        "* **Investigative Analysis & Results**\n",
        "\n",
        "  * Build and test statistical models (e.g., regression).\n",
        "  * Evaluate model performance and interpret the results.\n",
        "  * Use evidence from the analysis to answer the research question.\n",
        "\n",
        "* **Conclusions**\n",
        "\n",
        "  * Summarize overall findings and insights.\n",
        "  * Reflect on how the research question was addressed.\n",
        "  * Suggest possible next steps or extensions for the project."
      ],
      "metadata": {
        "id": "3WUyjLySu3QA"
      }
    }
  ]
}