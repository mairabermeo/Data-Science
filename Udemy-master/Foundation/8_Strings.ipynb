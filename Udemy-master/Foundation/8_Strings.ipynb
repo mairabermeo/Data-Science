{
 "cells": [
  {
   "cell_type": "markdown",
   "metadata": {
    "colab_type": "text",
    "id": "view-in-github"
   },
   "source": [
    "<a href=\"https://colab.research.google.com/github/MatthewFried/Udemy/blob/master/8_Strings.ipynb\" target=\"_parent\"><img src=\"https://colab.research.google.com/assets/colab-badge.svg\" alt=\"Open In Colab\"/></a>"
   ]
  },
  {
   "cell_type": "markdown",
   "metadata": {
    "colab_type": "text",
    "id": "pnCE8xG15V53"
   },
   "source": [
    "# __Strings__"
   ]
  },
  {
   "cell_type": "code",
   "execution_count": null,
   "metadata": {
    "colab": {
     "base_uri": "https://localhost:8080/",
     "height": 34
    },
    "colab_type": "code",
    "id": "DK7zmKtq4gwb",
    "outputId": "5747a407-9b53-4b4b-8875-7790bf33e961"
   },
   "outputs": [
    {
     "name": "stdout",
     "output_type": "stream",
     "text": [
      "H | a | m | l | e | t | "
     ]
    }
   ],
   "source": [
    "# string is a collection of characters\n",
    "name = 'Hamlet'\n",
    "for ch in name:\n",
    "  print(ch, end = \" | \")"
   ]
  },
  {
   "cell_type": "code",
   "execution_count": null,
   "metadata": {
    "colab": {
     "base_uri": "https://localhost:8080/",
     "height": 34
    },
    "colab_type": "code",
    "id": "vYklUnBHB1E1",
    "outputId": "25b65801-362d-4ee0-a95d-826322fa9475"
   },
   "outputs": [
    {
     "name": "stdout",
     "output_type": "stream",
     "text": [
      "cbe\n"
     ]
    }
   ],
   "source": [
    "name = \"Macbeth\"\n",
    "print(name[2:5])"
   ]
  },
  {
   "cell_type": "code",
   "execution_count": null,
   "metadata": {
    "colab": {
     "base_uri": "https://localhost:8080/",
     "height": 52
    },
    "colab_type": "code",
    "id": "GQEv1eQs5fn7",
    "outputId": "105d944b-3638-4a0a-a7f6-9644f24582ba"
   },
   "outputs": [
    {
     "name": "stdout",
     "output_type": "stream",
     "text": [
      "Enter a sentence: The strange and staid sisters of salem sought to steady their stead on stirrups\n",
      "The letter S appears 11 times.\n"
     ]
    }
   ],
   "source": [
    "#count how many times an 's' appears in the sentence\n",
    "count = 0\n",
    "my_string = input('Enter a sentence: ')\n",
    "for ch in my_string:\n",
    "  if ch == 'S' or ch == 's':\n",
    "    count += 1\n",
    "\n",
    "print(f'The letter S appears {count} times.')"
   ]
  },
  {
   "cell_type": "code",
   "execution_count": null,
   "metadata": {
    "colab": {
     "base_uri": "https://localhost:8080/",
     "height": 34
    },
    "colab_type": "code",
    "id": "borrxcrG5xZh",
    "outputId": "d01f60ec-1f1b-4be0-b517-622507cf23db"
   },
   "outputs": [
    {
     "name": "stdout",
     "output_type": "stream",
     "text": [
      "T n o t\n"
     ]
    }
   ],
   "source": [
    "#the letters have an index as well\n",
    "my_string = 'The Winter of My Discontent'\n",
    "print(my_string[0], my_string[6], my_string[11], my_string[-1])\n"
   ]
  },
  {
   "cell_type": "code",
   "execution_count": null,
   "metadata": {
    "colab": {
     "base_uri": "https://localhost:8080/",
     "height": 52
    },
    "colab_type": "code",
    "id": "rVxHY0fE6NGG",
    "outputId": "b0d9bd52-3cf4-47c6-ffd3-735716bc9783"
   },
   "outputs": [
    {
     "name": "stdout",
     "output_type": "stream",
     "text": [
      "The Winter of My Disco\n",
      "ntent\n"
     ]
    }
   ],
   "source": [
    "my_string = 'The Winter of My Discontent'\n",
    "print(my_string[:-5])\n",
    "print(my_string[-5:])"
   ]
  },
  {
   "cell_type": "code",
   "execution_count": null,
   "metadata": {
    "colab": {
     "base_uri": "https://localhost:8080/",
     "height": 34
    },
    "colab_type": "code",
    "id": "D8toIqIW6oc8",
    "outputId": "deaba165-8dc4-4d44-cabc-6da14ba0c2f2"
   },
   "outputs": [
    {
     "name": "stdout",
     "output_type": "stream",
     "text": [
      "ACEGIKMOQSUWY\n"
     ]
    }
   ],
   "source": [
    "letters = 'ABCDEFGHIJKLMNOPQRSTUVWXYZ'\n",
    "print(letters[0:26:2])"
   ]
  },
  {
   "cell_type": "code",
   "execution_count": null,
   "metadata": {
    "colab": {
     "base_uri": "https://localhost:8080/",
     "height": 34
    },
    "colab_type": "code",
    "id": "HQ0FmDjI6WtO",
    "outputId": "be50ad39-1014-4ec9-f23e-c86393934661"
   },
   "outputs": [
    {
     "name": "stdout",
     "output_type": "stream",
     "text": [
      "27\n"
     ]
    }
   ],
   "source": [
    "#the len function\n",
    "my_string = 'The Winter of My Discontent'\n",
    "print(len(my_string))"
   ]
  },
  {
   "cell_type": "code",
   "execution_count": null,
   "metadata": {
    "colab": {
     "base_uri": "https://localhost:8080/",
     "height": 34
    },
    "colab_type": "code",
    "id": "fMNkao2m6a3S",
    "outputId": "7ad1c8f9-93cd-40e5-a16a-78ffcab10055"
   },
   "outputs": [
    {
     "name": "stdout",
     "output_type": "stream",
     "text": [
      "hotdog\n"
     ]
    }
   ],
   "source": [
    "#string concetenation\n",
    "x = 'hot'\n",
    "y = 'dog'\n",
    "print(x+y)"
   ]
  },
  {
   "cell_type": "markdown",
   "metadata": {
    "colab_type": "text",
    "id": "bAd44FP169E2"
   },
   "source": [
    "### Search A String"
   ]
  },
  {
   "cell_type": "code",
   "execution_count": null,
   "metadata": {
    "colab": {
     "base_uri": "https://localhost:8080/",
     "height": 34
    },
    "colab_type": "code",
    "id": "4rS5aI4o6zep",
    "outputId": "d12e8500-dbc8-43c5-adcb-702b0ff40d0a"
   },
   "outputs": [
    {
     "name": "stdout",
     "output_type": "stream",
     "text": [
      "The string 'seven' was found.\n"
     ]
    }
   ],
   "source": [
    "#search a string\n",
    "text = 'Four score and seven years ago'\n",
    "if 'seven' in text:     \n",
    "  print('The string \\'seven\\' was found.')\n",
    "else:\n",
    "  print('The string \"seven\" was not found.')"
   ]
  },
  {
   "cell_type": "code",
   "execution_count": null,
   "metadata": {
    "colab": {
     "base_uri": "https://localhost:8080/",
     "height": 34
    },
    "colab_type": "code",
    "id": "m9n7tw7w6_WS",
    "outputId": "571e22cc-a203-4f59-c396-bc0a197dab68"
   },
   "outputs": [
    {
     "name": "stdout",
     "output_type": "stream",
     "text": [
      "The string \"eight\" was not found.\n"
     ]
    }
   ],
   "source": [
    "text = 'Four score and seven years ago'\n",
    "if 'eight' not in text:     \n",
    "  print('The string \"eight\" was not found.')\n",
    "else:\n",
    "  print('The string \"eight\" was found.')"
   ]
  },
  {
   "cell_type": "markdown",
   "metadata": {
    "colab_type": "text",
    "id": "Nq8pGeB57N6T"
   },
   "source": [
    "### String Methods\n"
   ]
  },
  {
   "cell_type": "code",
   "execution_count": null,
   "metadata": {
    "colab": {},
    "colab_type": "code",
    "id": "Had_HQ_j7T8w"
   },
   "outputs": [],
   "source": [
    "string1 = '1200'\n",
    "if string1.isdigit():\n",
    "  print(f’{string1} contains only digits.’)\n",
    "else:\n",
    "  print(f’{string1} contains characters other than digits.’)"
   ]
  },
  {
   "cell_type": "code",
   "execution_count": null,
   "metadata": {
    "colab": {
     "base_uri": "https://localhost:8080/",
     "height": 34
    },
    "colab_type": "code",
    "id": "XxM2nzXt7jVs",
    "outputId": "28b9d444-344f-4877-b978-01817a824a4c"
   },
   "outputs": [
    {
     "name": "stdout",
     "output_type": "stream",
     "text": [
      "WXYZ wxyz\n"
     ]
    }
   ],
   "source": [
    "letters = 'WXYZ'\n",
    "print(letters, letters.lower())"
   ]
  },
  {
   "cell_type": "code",
   "execution_count": null,
   "metadata": {
    "colab": {
     "base_uri": "https://localhost:8080/",
     "height": 34
    },
    "colab_type": "code",
    "id": "cKz1L2uQ7mOW",
    "outputId": "3160f5c6-ab0a-4e97-fd24-3c99b7346c97"
   },
   "outputs": [
    {
     "name": "stdout",
     "output_type": "stream",
     "text": [
      "abcd ABCD\n"
     ]
    }
   ],
   "source": [
    "letters = 'abcd'\n",
    "print(letters, letters.upper())"
   ]
  },
  {
   "cell_type": "code",
   "execution_count": null,
   "metadata": {
    "colab": {
     "base_uri": "https://localhost:8080/",
     "height": 50
    },
    "colab_type": "code",
    "id": "SeHMmU5Y71DK",
    "outputId": "af923bbc-1048-40ce-8239-448eabffecb7"
   },
   "outputs": [
    {
     "name": "stdout",
     "output_type": "stream",
     "text": [
      "Enter the filename: sdlf;j.py\n",
      "That is the name of a Python source file.\n"
     ]
    }
   ],
   "source": [
    "#endswith\n",
    "filename = input('Enter the filename: ')\n",
    "if filename.endswith('.txt'):\n",
    "    print('That is the name of a text file.')\n",
    "elif filename.endswith('.py'):\n",
    "    print('That is the name of a Python source file.')\n",
    "elif filename.endswith('.doc'):\n",
    "    print('That is the name of a word processing document.')\n",
    "else:\n",
    "    print('Unknown file type.')"
   ]
  },
  {
   "cell_type": "code",
   "execution_count": null,
   "metadata": {
    "colab": {
     "base_uri": "https://localhost:8080/",
     "height": 52
    },
    "colab_type": "code",
    "id": "iOwL5BB08EMB",
    "outputId": "e8078abd-2ef6-4574-eebd-e280f04bf071"
   },
   "outputs": [
    {
     "name": "stdout",
     "output_type": "stream",
     "text": [
      "HelloHelloHelloHelloHello\n",
      "[1, 2, 3, 4, 5, 1, 2, 3, 4, 5]\n"
     ]
    }
   ],
   "source": [
    "#silly things with string\n",
    "print('Hello' * 5)\n",
    "\n",
    "theList = [1,2,3,4,5]*2\n",
    "print(theList)"
   ]
  },
  {
   "cell_type": "code",
   "execution_count": null,
   "metadata": {
    "colab": {
     "base_uri": "https://localhost:8080/",
     "height": 34
    },
    "colab_type": "code",
    "id": "b3Btq6-i8OVz",
    "outputId": "a1270f7e-09a2-4f4a-ea2d-12069f5f3a66"
   },
   "outputs": [
    {
     "name": "stdout",
     "output_type": "stream",
     "text": [
      "['One,', 'wo,', 'hree,four']\n"
     ]
    }
   ],
   "source": [
    "my_string = 'One,two,three,four'\n",
    "\n",
    "# Split the string.\n",
    "word_list = my_string.split(',')\n",
    "print(word_list)"
   ]
  },
  {
   "cell_type": "code",
   "execution_count": null,
   "metadata": {
    "colab": {
     "base_uri": "https://localhost:8080/",
     "height": 302
    },
    "colab_type": "code",
    "id": "WzYd1ASU8ZM7",
    "outputId": "59af53b5-c1d0-4ef1-d7a4-130536279fb3"
   },
   "outputs": [
    {
     "name": "stdout",
     "output_type": "stream",
     "text": [
      "Token: one\n",
      "Token: two\n",
      "Token: three\n",
      "Token: four\n",
      "\n",
      "Token: 10\n",
      "Token: 20\n",
      "Token: 30\n",
      "Token: 40\n",
      "Token: 50\n",
      "\n",
      "Token: a\n",
      "Token: b\n",
      "Token: c\n",
      "Token: d\n",
      "Token: e\n",
      "Token: f\n"
     ]
    }
   ],
   "source": [
    "def display_tokens(data, delimiter):\n",
    "  tokens = data.split(delimiter)\n",
    "  for item in tokens:\n",
    "   print(f'Token: {item}')\n",
    "\n",
    "# Strings to tokenize\n",
    "str1 = 'one two three four'\n",
    "str2 = '10:20:30:40:50'\n",
    "str3 = 'a/b/c/d/e/f'\n",
    "\n",
    "display_tokens(str1, ' ')\n",
    "print()\n",
    "display_tokens(str2, ':')\n",
    "print()\n",
    "display_tokens(str3, '/')"
   ]
  }
 ],
 "metadata": {
  "colab": {
   "authorship_tag": "ABX9TyNj9qNP1Wb3hfdVPcRJs9Tq",
   "include_colab_link": true,
   "name": "8 Strings.ipynb",
   "provenance": []
  },
  "kernelspec": {
   "display_name": "Python [conda env:base] *",
   "language": "python",
   "name": "conda-base-py"
  },
  "language_info": {
   "codemirror_mode": {
    "name": "ipython",
    "version": 3
   },
   "file_extension": ".py",
   "mimetype": "text/x-python",
   "name": "python",
   "nbconvert_exporter": "python",
   "pygments_lexer": "ipython3",
   "version": "3.12.7"
  }
 },
 "nbformat": 4,
 "nbformat_minor": 4
}
